{
  "cells": [
    {
      "cell_type": "code",
      "execution_count": 1,
      "metadata": {
        "id": "5nlEu_VGUsUj"
      },
      "outputs": [],
      "source": [
        "import torch\n",
        "import torch.nn as nn\n",
        "import torchvision.transforms as transforms\n",
        "from torch.utils.data import DataLoader, Dataset\n",
        "import cv2\n",
        "import numpy as np\n",
        "import pandas as pd\n",
        "from PIL import Image\n",
        "import matplotlib.pyplot as plt\n",
        "import os\n",
        "from sklearn.model_selection import train_test_split\n",
        "import warnings\n",
        "warnings.filterwarnings('ignore')\n",
        "\n",
        "# Check if CUDA is available\n",
        "device = torch.device('cuda' if torch.cuda.is_available() else 'cpu')\n"
      ]
    },
    {
      "cell_type": "code",
      "execution_count": 2,
      "metadata": {
        "id": "novlzpJ8W4fH"
      },
      "outputs": [],
      "source": [
        "# Define defect class mapping\n",
        "defect_classes = {\n",
        "    '1': 'punching_hole',\n",
        "    '2': 'welding_line',\n",
        "    '3': 'crescent_gap',\n",
        "    '4': 'water_spot',\n",
        "    '5': 'oil_spot',\n",
        "    '6': 'silk_spot',\n",
        "    '7': 'inclusion',\n",
        "    '8': 'rolled_pit',\n",
        "    '9': 'crease',\n",
        "    '10': 'waist_folding'\n",
        "}"
      ]
    },
    {
      "cell_type": "code",
      "execution_count": 3,
      "metadata": {
        "colab": {
          "base_uri": "https://localhost:8080/"
        },
        "id": "CDx_ditJ8AE-",
        "outputId": "b9605fd2-9607-4bef-caa6-098b55b91467"
      },
      "outputs": [
        {
          "output_type": "stream",
          "name": "stdout",
          "text": [
            "Files in current directory:\n",
            "  .config\n",
            "  archive (2).zip\n",
            "  sample_data\n",
            "\n",
            "Zip files found: ['archive (2).zip']\n",
            "Extracting archive (2).zip...\n",
            "Extraction complete!\n"
          ]
        }
      ],
      "source": [
        "import zipfile\n",
        "import os\n",
        "\n",
        "# List all files to find your zip\n",
        "print(\"Files in current directory:\")\n",
        "all_files = os.listdir()\n",
        "for f in all_files:\n",
        "    print(f\"  {f}\")\n",
        "\n",
        "# Find zip files\n",
        "zip_files = [f for f in all_files if f.endswith('.zip')]\n",
        "print(f\"\\nZip files found: {zip_files}\")\n",
        "\n",
        "# If you see your zip file in the list above, use its exact name\n",
        "zip_filename = \"archive (2).zip\"\n",
        "\n",
        "# Extract the zip file\n",
        "if zip_filename in all_files:\n",
        "    print(f\"Extracting {zip_filename}...\")\n",
        "    with zipfile.ZipFile(zip_filename, 'r') as zip_ref:\n",
        "        zip_ref.extractall()\n",
        "\n",
        "    # Remove zip file after extraction\n",
        "    os.remove(zip_filename)\n",
        "    print(\"Extraction complete!\")"
      ]
    },
    {
      "cell_type": "code",
      "execution_count": 4,
      "metadata": {
        "colab": {
          "base_uri": "https://localhost:8080/"
        },
        "id": "qMYYlL5sD7aI",
        "outputId": "e41eb2e7-10bb-41f4-94a0-ad9215b1a035"
      },
      "outputs": [
        {
          "output_type": "stream",
          "name": "stdout",
          "text": [
            "Found potential dataset at: .\n",
            "Contains folders: ['1', '2', '3', '4', '5', '6', '7', '8', '9', '10']\n",
            "\n",
            " Dataset ready at: .\n"
          ]
        }
      ],
      "source": [
        "# Search for your GC10-DET dataset across common locations\n",
        "import os\n",
        "\n",
        "def find_dataset(search_path='/'):\n",
        "    \"\"\"Search for GC10-DET dataset in the filesystem\"\"\"\n",
        "    for root, dirs, files in os.walk(search_path):\n",
        "        # Look for folders with numbered directories (1,2,3...10)\n",
        "        numbered_dirs = [d for d in dirs if d.isdigit()]\n",
        "        if len(numbered_dirs) >= 8:  # Should have folders 1-10\n",
        "            print(f\"Found potential dataset at: {root}\")\n",
        "            print(f\"Contains folders: {sorted(numbered_dirs, key=lambda x: int(x))}\")\n",
        "            return root\n",
        "    return None\n",
        "\n",
        "# Search in current directory and subdirectories\n",
        "dataset_path = find_dataset('.')\n",
        "if dataset_path:\n",
        "    data_path = dataset_path\n",
        "    print(f\"\\n Dataset ready at: {data_path}\")\n",
        "else:\n",
        "    print(\"Dataset not found in current location\")\n"
      ]
    },
    {
      "cell_type": "code",
      "execution_count": 5,
      "metadata": {
        "colab": {
          "base_uri": "https://localhost:8080/"
        },
        "id": "cZVKFGxJIe3t",
        "outputId": "72ce65db-7b4e-40b4-f1af-9253b38ad798"
      },
      "outputs": [
        {
          "output_type": "stream",
          "name": "stdout",
          "text": [
            "Total images: 2312\n",
            "\n",
            "Defect distribution:\n",
            "  punching_hole: 219 images\n",
            "  welding_line: 273 images\n",
            "  crescent_gap: 226 images\n",
            "  water_spot: 289 images\n",
            "  oil_spot: 204 images\n",
            "  silk_spot: 651 images\n",
            "  inclusion: 216 images\n",
            "  rolled_pit: 31 images\n",
            "  crease: 53 images\n",
            "  waist_folding: 150 images\n"
          ]
        }
      ],
      "source": [
        "import glob\n",
        "from collections import Counter\n",
        "# Create image dataset\n",
        "image_data = []\n",
        "label_counts = Counter()\n",
        "\n",
        "for folder_num, defect_name in defect_classes.items():\n",
        "    folder_path = os.path.join(data_path, folder_num)\n",
        "    if os.path.exists(folder_path):\n",
        "        images = glob.glob(os.path.join(folder_path, '*.jpg'))\n",
        "        for img_path in images:\n",
        "            image_data.append({\n",
        "                'image_path': img_path,\n",
        "                'label': defect_name,\n",
        "                'class_id': int(folder_num) - 1  # 0-indexed for PyTorch\n",
        "            })\n",
        "        label_counts[defect_name] = len(images)\n",
        "\n",
        "print(f\"Total images: {len(image_data)}\")\n",
        "print(\"\\nDefect distribution:\")\n",
        "for defect, count in label_counts.items():\n",
        "    print(f\"  {defect}: {count} images\")"
      ]
    },
    {
      "cell_type": "code",
      "execution_count": 6,
      "metadata": {
        "id": "CO59b9kKI8gC"
      },
      "outputs": [],
      "source": [
        "# Custom Dataset Class for Vision Transformers\n",
        "class GC10DefectDataset(Dataset):\n",
        "    def __init__(self, image_data, transform=None):\n",
        "        self.image_data = image_data\n",
        "        self.transform = transform\n",
        "\n",
        "    def __len__(self):\n",
        "        return len(self.image_data)\n",
        "\n",
        "    def __getitem__(self, idx):\n",
        "        item = self.image_data[idx]\n",
        "        image = Image.open(item['image_path']).convert('RGB')\n",
        "        if self.transform:\n",
        "            image = self.transform(image)\n",
        "        return image, item['class_id']"
      ]
    },
    {
      "cell_type": "code",
      "execution_count": 7,
      "metadata": {
        "colab": {
          "base_uri": "https://localhost:8080/"
        },
        "id": "3VWLSwaXJDry",
        "outputId": "170ce662-be10-4ce1-cdc7-91a5b6810453"
      },
      "outputs": [
        {
          "output_type": "stream",
          "name": "stdout",
          "text": [
            "Dataset class ready for Vision Transformer!\n"
          ]
        }
      ],
      "source": [
        "# Vision Transformer transforms\n",
        "train_transform = transforms.Compose([\n",
        "    transforms.Resize((224, 224)),\n",
        "    transforms.RandomHorizontalFlip(0.5),\n",
        "    transforms.RandomRotation(10),\n",
        "    transforms.ColorJitter(brightness=0.2, contrast=0.2),\n",
        "    transforms.ToTensor(),\n",
        "    transforms.Normalize(mean=[0.485, 0.456, 0.406], std=[0.229, 0.224, 0.225])\n",
        "])\n",
        "\n",
        "val_transform = transforms.Compose([\n",
        "    transforms.Resize((224, 224)),\n",
        "    transforms.ToTensor(),\n",
        "    transforms.Normalize(mean=[0.485, 0.456, 0.406], std=[0.229, 0.224, 0.225])\n",
        "])\n",
        "\n",
        "print(\"Dataset class ready for Vision Transformer!\")"
      ]
    },
    {
      "cell_type": "code",
      "execution_count": 8,
      "metadata": {
        "colab": {
          "base_uri": "https://localhost:8080/",
          "height": 49,
          "referenced_widgets": [
            "5950b04ff3544aa58cf73d6a4a0eae16",
            "7169187bce5c4864a24389a22b7b19b7",
            "a88b39ea99714ebc947d8fe8ff291fad",
            "42126526590946898b2b660f9fd5704b",
            "0a3b80bb510e43ab9575c989170f5305",
            "5587692920354e4699041404b6710cad",
            "a63a43a2771a4f1f8ab163fb2c089c27",
            "d3a57d6214e54904b9785959de1c493b",
            "8e96998335cc4098abbb06b30e417abc",
            "46523a942ed34819aaa907cdb773756c",
            "5efd25ec560049f4958c435628252925"
          ]
        },
        "id": "L21Nm-tNJkoD",
        "outputId": "b649338a-8369-4eb3-c179-7417d6994e4b"
      },
      "outputs": [
        {
          "output_type": "display_data",
          "data": {
            "text/plain": [
              "model.safetensors:   0%|          | 0.00/346M [00:00<?, ?B/s]"
            ],
            "application/vnd.jupyter.widget-view+json": {
              "version_major": 2,
              "version_minor": 0,
              "model_id": "5950b04ff3544aa58cf73d6a4a0eae16"
            }
          },
          "metadata": {}
        }
      ],
      "source": [
        "import torch.nn.functional as F\n",
        "from sklearn.model_selection import train_test_split\n",
        "import timm  # For pretrained Vision Transformers\n",
        "\n",
        "# Vision Transformer for Manufacturing Defect Detection\n",
        "class ManufacturingDefectViT(nn.Module):\n",
        "    def __init__(self, num_classes=10, pretrained=True):\n",
        "        super(ManufacturingDefectViT, self).__init__()\n",
        "\n",
        "        # Load pretrained Vision Transformer\n",
        "        self.vit = timm.create_model('vit_base_patch16_224', pretrained=pretrained)\n",
        "\n",
        "        # Replace classifier head for our 10 defect classes\n",
        "        self.vit.head = nn.Linear(self.vit.head.in_features, num_classes)\n",
        "\n",
        "        # Add dropout for regularization\n",
        "        self.dropout = nn.Dropout(0.1)\n",
        "\n",
        "    def forward(self, x):\n",
        "        # Forward pass through Vision Transformer\n",
        "        x = self.vit(x)\n",
        "        return x\n",
        "\n",
        "# Create model instance\n",
        "model = ManufacturingDefectViT(num_classes=10, pretrained=True).to(device)"
      ]
    },
    {
      "cell_type": "code",
      "execution_count": 10,
      "metadata": {
        "colab": {
          "base_uri": "https://localhost:8080/"
        },
        "id": "qGAWgFFyJ6Ll",
        "outputId": "5d493d61-b8c1-4601-f952-ca91db4ad64d"
      },
      "outputs": [
        {
          "output_type": "stream",
          "name": "stdout",
          "text": [
            "Vision Transformer Model Created\n",
            "Total parameters: 85,806,346\n",
            "Trainable parameters: 85,806,346\n",
            "Architecture: ViT-Base/16 with custom classification head\n"
          ]
        }
      ],
      "source": [
        "# Model summary\n",
        "total_params = sum(p.numel() for p in model.parameters())\n",
        "trainable_params = sum(p.numel() for p in model.parameters() if p.requires_grad)\n",
        "\n",
        "print(f\"Vision Transformer Model Created\")\n",
        "print(f\"Total parameters: {total_params:,}\")\n",
        "print(f\"Trainable parameters: {trainable_params:,}\")\n",
        "print(f\"Architecture: ViT-Base/16 with custom classification head\")"
      ]
    },
    {
      "cell_type": "code",
      "execution_count": 11,
      "metadata": {
        "colab": {
          "base_uri": "https://localhost:8080/"
        },
        "id": "UldlFVAdJ_03",
        "outputId": "c9f92cb0-54ba-47e8-bd0c-6c56eee67402"
      },
      "outputs": [
        {
          "output_type": "stream",
          "name": "stdout",
          "text": [
            "Training samples: 1618\n",
            "Validation samples: 347\n",
            "Test samples: 347\n"
          ]
        }
      ],
      "source": [
        "from sklearn.model_selection import train_test_split\n",
        "\n",
        "# Split dataset into train/validation/test\n",
        "train_data, temp_data = train_test_split(image_data, test_size=0.3,\n",
        "                                        stratify=[item['class_id'] for item in image_data],\n",
        "                                        random_state=42)\n",
        "val_data, test_data = train_test_split(temp_data, test_size=0.5,\n",
        "                                     stratify=[item['class_id'] for item in temp_data],\n",
        "                                     random_state=42)\n",
        "\n",
        "print(f\"Training samples: {len(train_data)}\")\n",
        "print(f\"Validation samples: {len(val_data)}\")\n",
        "print(f\"Test samples: {len(test_data)}\")\n",
        "\n",
        "# Create datasets\n",
        "train_dataset = GC10DefectDataset(train_data, transform=train_transform)\n",
        "val_dataset = GC10DefectDataset(val_data, transform=val_transform)\n",
        "test_dataset = GC10DefectDataset(test_data, transform=val_transform)"
      ]
    },
    {
      "cell_type": "code",
      "execution_count": 12,
      "metadata": {
        "colab": {
          "base_uri": "https://localhost:8080/"
        },
        "id": "oDc3BhtLKBIw",
        "outputId": "f7c1a8b7-b90f-470b-aadc-60bdfbaf3957"
      },
      "outputs": [
        {
          "output_type": "stream",
          "name": "stdout",
          "text": [
            "DataLoaders created with batch size: 16\n"
          ]
        }
      ],
      "source": [
        "# Create dataloaders\n",
        "batch_size = 16  # Adjust based on GPU memory\n",
        "train_loader = DataLoader(train_dataset, batch_size=batch_size, shuffle=True)\n",
        "val_loader = DataLoader(val_dataset, batch_size=batch_size, shuffle=False)\n",
        "test_loader = DataLoader(test_dataset, batch_size=batch_size, shuffle=False)\n",
        "\n",
        "print(f\"DataLoaders created with batch size: {batch_size}\")"
      ]
    },
    {
      "cell_type": "code",
      "execution_count": 13,
      "metadata": {
        "colab": {
          "base_uri": "https://localhost:8080/"
        },
        "id": "vaSiFsyUKFSH",
        "outputId": "c48b7e97-b341-422e-85e8-f4682db2f60f"
      },
      "outputs": [
        {
          "output_type": "stream",
          "name": "stdout",
          "text": [
            "Training functions ready\n"
          ]
        }
      ],
      "source": [
        "import torch.optim as optim\n",
        "from torch.optim.lr_scheduler import StepLR\n",
        "\n",
        "# Loss function and optimizer\n",
        "criterion = nn.CrossEntropyLoss()\n",
        "optimizer = optim.AdamW(model.parameters(), lr=1e-4, weight_decay=0.01)\n",
        "scheduler = StepLR(optimizer, step_size=10, gamma=0.1)\n",
        "\n",
        "# Training function\n",
        "def train_epoch(model, train_loader, criterion, optimizer, device):\n",
        "    model.train()\n",
        "    running_loss = 0.0\n",
        "    correct = 0\n",
        "    total = 0\n",
        "\n",
        "    for images, labels in train_loader:\n",
        "        images, labels = images.to(device), labels.to(device)\n",
        "\n",
        "        optimizer.zero_grad()\n",
        "        outputs = model(images)\n",
        "        loss = criterion(outputs, labels)\n",
        "        loss.backward()\n",
        "        optimizer.step()\n",
        "\n",
        "        running_loss += loss.item()\n",
        "        _, predicted = outputs.max(1)\n",
        "        total += labels.size(0)\n",
        "        correct += predicted.eq(labels).sum().item()\n",
        "\n",
        "    accuracy = 100. * correct / total\n",
        "    return running_loss / len(train_loader), accuracy\n",
        "\n",
        "# Validation function\n",
        "def validate_epoch(model, val_loader, criterion, device):\n",
        "    model.eval()\n",
        "    running_loss = 0.0\n",
        "    correct = 0\n",
        "    total = 0\n",
        "\n",
        "    with torch.no_grad():\n",
        "        for images, labels in val_loader:\n",
        "            images, labels = images.to(device), labels.to(device)\n",
        "            outputs = model(images)\n",
        "            loss = criterion(outputs, labels)\n",
        "\n",
        "            running_loss += loss.item()\n",
        "            _, predicted = outputs.max(1)\n",
        "            total += labels.size(0)\n",
        "            correct += predicted.eq(labels).sum().item()\n",
        "\n",
        "    accuracy = 100. * correct / total\n",
        "    return running_loss / len(val_loader), accuracy\n",
        "\n",
        "print(\"Training functions ready\")\n"
      ]
    },
    {
      "cell_type": "code",
      "execution_count": 14,
      "metadata": {
        "colab": {
          "base_uri": "https://localhost:8080/"
        },
        "id": "mzxPI16EKIc5",
        "outputId": "389d5aa3-0398-4bd9-cea5-3482614b3f8d"
      },
      "outputs": [
        {
          "output_type": "stream",
          "name": "stdout",
          "text": [
            "Starting Vision Transformer training with FULL progress tracking...\n",
            "\n",
            "============================================================\n",
            "EPOCH 1/20\n",
            "============================================================\n"
          ]
        },
        {
          "output_type": "stream",
          "name": "stderr",
          "text": [
            "Training:  10%|▉         | 10/102 [00:10<01:18,  1.17it/s, Loss=2.4453, Acc=20.62%]"
          ]
        },
        {
          "output_type": "stream",
          "name": "stdout",
          "text": [
            "\n",
            "  Batch 10/102: Loss=2.4453, Acc=20.62%\n"
          ]
        },
        {
          "output_type": "stream",
          "name": "stderr",
          "text": [
            "Training:  20%|█▉        | 20/102 [00:18<01:13,  1.12it/s, Loss=2.1944, Acc=27.19%]"
          ]
        },
        {
          "output_type": "stream",
          "name": "stdout",
          "text": [
            "\n",
            "  Batch 20/102: Loss=2.1944, Acc=27.19%\n"
          ]
        },
        {
          "output_type": "stream",
          "name": "stderr",
          "text": [
            "Training:  29%|██▉       | 30/102 [00:28<01:11,  1.00it/s, Loss=1.9255, Acc=35.42%]"
          ]
        },
        {
          "output_type": "stream",
          "name": "stdout",
          "text": [
            "\n",
            "  Batch 30/102: Loss=1.9255, Acc=35.42%\n"
          ]
        },
        {
          "output_type": "stream",
          "name": "stderr",
          "text": [
            "Training:  39%|███▉      | 40/102 [00:36<00:52,  1.19it/s, Loss=1.7484, Acc=41.72%]"
          ]
        },
        {
          "output_type": "stream",
          "name": "stdout",
          "text": [
            "\n",
            "  Batch 40/102: Loss=1.7484, Acc=41.72%\n"
          ]
        },
        {
          "output_type": "stream",
          "name": "stderr",
          "text": [
            "Training:  49%|████▉     | 50/102 [00:45<00:44,  1.17it/s, Loss=1.6284, Acc=46.00%]"
          ]
        },
        {
          "output_type": "stream",
          "name": "stdout",
          "text": [
            "\n",
            "  Batch 50/102: Loss=1.6284, Acc=46.00%\n"
          ]
        },
        {
          "output_type": "stream",
          "name": "stderr",
          "text": [
            "Training:  59%|█████▉    | 60/102 [00:56<00:45,  1.08s/it, Loss=1.5361, Acc=49.79%]"
          ]
        },
        {
          "output_type": "stream",
          "name": "stdout",
          "text": [
            "\n",
            "  Batch 60/102: Loss=1.5361, Acc=49.79%\n"
          ]
        },
        {
          "output_type": "stream",
          "name": "stderr",
          "text": [
            "Training:  69%|██████▊   | 70/102 [01:05<00:31,  1.03it/s, Loss=1.5053, Acc=51.88%]"
          ]
        },
        {
          "output_type": "stream",
          "name": "stdout",
          "text": [
            "\n",
            "  Batch 70/102: Loss=1.5053, Acc=51.88%\n"
          ]
        },
        {
          "output_type": "stream",
          "name": "stderr",
          "text": [
            "Training:  78%|███████▊  | 80/102 [01:14<00:18,  1.17it/s, Loss=1.4612, Acc=53.59%]"
          ]
        },
        {
          "output_type": "stream",
          "name": "stdout",
          "text": [
            "\n",
            "  Batch 80/102: Loss=1.4612, Acc=53.59%\n"
          ]
        },
        {
          "output_type": "stream",
          "name": "stderr",
          "text": [
            "Training:  88%|████████▊ | 90/102 [01:22<00:10,  1.17it/s, Loss=1.3998, Acc=55.14%]"
          ]
        },
        {
          "output_type": "stream",
          "name": "stdout",
          "text": [
            "\n",
            "  Batch 90/102: Loss=1.3998, Acc=55.14%\n"
          ]
        },
        {
          "output_type": "stream",
          "name": "stderr",
          "text": [
            "Training:  98%|█████████▊| 100/102 [01:33<00:01,  1.05it/s, Loss=1.3665, Acc=55.44%]"
          ]
        },
        {
          "output_type": "stream",
          "name": "stdout",
          "text": [
            "\n",
            "  Batch 100/102: Loss=1.3665, Acc=55.44%\n"
          ]
        },
        {
          "output_type": "stream",
          "name": "stderr",
          "text": [
            "Training: 100%|██████████| 102/102 [01:34<00:00,  1.08it/s, Loss=1.3544, Acc=55.75%]\n"
          ]
        },
        {
          "output_type": "stream",
          "name": "stdout",
          "text": [
            "\n",
            "Validating...\n",
            "New best model saved!\n",
            "\n",
            " EPOCH 1 SUMMARY:\n",
            "   Train Loss: 1.3544 | Train Acc: 55.75%\n",
            "   Val Loss: 0.7872   | Val Acc: 74.35%\n",
            "   Time: 105.3s\n",
            "   Best Val Acc: 74.35%\n",
            "   ETA: 34.0 minutes remaining\n",
            "\n",
            "============================================================\n",
            "EPOCH 2/20\n",
            "============================================================\n"
          ]
        },
        {
          "output_type": "stream",
          "name": "stderr",
          "text": [
            "Training:  10%|▉         | 10/102 [00:09<01:24,  1.09it/s, Loss=0.6918, Acc=76.25%]"
          ]
        },
        {
          "output_type": "stream",
          "name": "stdout",
          "text": [
            "\n",
            "  Batch 10/102: Loss=0.6918, Acc=76.25%\n"
          ]
        },
        {
          "output_type": "stream",
          "name": "stderr",
          "text": [
            "Training:  20%|█▉        | 20/102 [00:17<01:10,  1.17it/s, Loss=0.8449, Acc=72.50%]"
          ]
        },
        {
          "output_type": "stream",
          "name": "stdout",
          "text": [
            "\n",
            "  Batch 20/102: Loss=0.8449, Acc=72.50%\n"
          ]
        },
        {
          "output_type": "stream",
          "name": "stderr",
          "text": [
            "Training:  29%|██▉       | 30/102 [00:26<01:01,  1.16it/s, Loss=0.8548, Acc=70.62%]"
          ]
        },
        {
          "output_type": "stream",
          "name": "stdout",
          "text": [
            "\n",
            "  Batch 30/102: Loss=0.8548, Acc=70.62%\n"
          ]
        },
        {
          "output_type": "stream",
          "name": "stderr",
          "text": [
            "Training:  39%|███▉      | 40/102 [00:35<00:55,  1.12it/s, Loss=0.8669, Acc=70.00%]"
          ]
        },
        {
          "output_type": "stream",
          "name": "stdout",
          "text": [
            "\n",
            "  Batch 40/102: Loss=0.8669, Acc=70.00%\n"
          ]
        },
        {
          "output_type": "stream",
          "name": "stderr",
          "text": [
            "Training:  49%|████▉     | 50/102 [00:44<00:50,  1.03it/s, Loss=0.8739, Acc=70.12%]"
          ]
        },
        {
          "output_type": "stream",
          "name": "stdout",
          "text": [
            "\n",
            "  Batch 50/102: Loss=0.8739, Acc=70.12%\n"
          ]
        },
        {
          "output_type": "stream",
          "name": "stderr",
          "text": [
            "Training:  59%|█████▉    | 60/102 [00:53<00:36,  1.16it/s, Loss=0.8839, Acc=69.06%]"
          ]
        },
        {
          "output_type": "stream",
          "name": "stdout",
          "text": [
            "\n",
            "  Batch 60/102: Loss=0.8839, Acc=69.06%\n"
          ]
        },
        {
          "output_type": "stream",
          "name": "stderr",
          "text": [
            "Training:  69%|██████▊   | 70/102 [01:02<00:27,  1.15it/s, Loss=0.8811, Acc=69.38%]"
          ]
        },
        {
          "output_type": "stream",
          "name": "stdout",
          "text": [
            "\n",
            "  Batch 70/102: Loss=0.8811, Acc=69.38%\n"
          ]
        },
        {
          "output_type": "stream",
          "name": "stderr",
          "text": [
            "Training:  78%|███████▊  | 80/102 [01:11<00:19,  1.11it/s, Loss=0.8670, Acc=70.00%]"
          ]
        },
        {
          "output_type": "stream",
          "name": "stdout",
          "text": [
            "\n",
            "  Batch 80/102: Loss=0.8670, Acc=70.00%\n"
          ]
        },
        {
          "output_type": "stream",
          "name": "stderr",
          "text": [
            "Training:  88%|████████▊ | 90/102 [01:20<00:11,  1.06it/s, Loss=0.8722, Acc=70.00%]"
          ]
        },
        {
          "output_type": "stream",
          "name": "stdout",
          "text": [
            "\n",
            "  Batch 90/102: Loss=0.8722, Acc=70.00%\n"
          ]
        },
        {
          "output_type": "stream",
          "name": "stderr",
          "text": [
            "Training:  98%|█████████▊| 100/102 [01:29<00:01,  1.16it/s, Loss=0.8717, Acc=70.31%]"
          ]
        },
        {
          "output_type": "stream",
          "name": "stdout",
          "text": [
            "\n",
            "  Batch 100/102: Loss=0.8717, Acc=70.31%\n"
          ]
        },
        {
          "output_type": "stream",
          "name": "stderr",
          "text": [
            "Training: 100%|██████████| 102/102 [01:30<00:00,  1.13it/s, Loss=0.8715, Acc=70.21%]\n"
          ]
        },
        {
          "output_type": "stream",
          "name": "stdout",
          "text": [
            "\n",
            "Validating...\n",
            "\n",
            " EPOCH 2 SUMMARY:\n",
            "   Train Loss: 0.8715 | Train Acc: 70.21%\n",
            "   Val Loss: 0.9531   | Val Acc: 63.40%\n",
            "   Time: 101.3s\n",
            "   Best Val Acc: 74.35%\n",
            "   ETA: 31.3 minutes remaining\n",
            "\n",
            "============================================================\n",
            "EPOCH 3/20\n",
            "============================================================\n"
          ]
        },
        {
          "output_type": "stream",
          "name": "stderr",
          "text": [
            "Training:  10%|▉         | 10/102 [00:09<01:20,  1.14it/s, Loss=0.9315, Acc=70.00%]"
          ]
        },
        {
          "output_type": "stream",
          "name": "stdout",
          "text": [
            "\n",
            "  Batch 10/102: Loss=0.9315, Acc=70.00%\n"
          ]
        },
        {
          "output_type": "stream",
          "name": "stderr",
          "text": [
            "Training:  20%|█▉        | 20/102 [00:18<01:15,  1.09it/s, Loss=0.8819, Acc=70.62%]"
          ]
        },
        {
          "output_type": "stream",
          "name": "stdout",
          "text": [
            "\n",
            "  Batch 20/102: Loss=0.8819, Acc=70.62%\n"
          ]
        },
        {
          "output_type": "stream",
          "name": "stderr",
          "text": [
            "Training:  29%|██▉       | 30/102 [00:26<01:02,  1.16it/s, Loss=0.8493, Acc=69.17%]"
          ]
        },
        {
          "output_type": "stream",
          "name": "stdout",
          "text": [
            "\n",
            "  Batch 30/102: Loss=0.8493, Acc=69.17%\n"
          ]
        },
        {
          "output_type": "stream",
          "name": "stderr",
          "text": [
            "Training:  39%|███▉      | 40/102 [00:35<00:53,  1.15it/s, Loss=0.8121, Acc=70.31%]"
          ]
        },
        {
          "output_type": "stream",
          "name": "stdout",
          "text": [
            "\n",
            "  Batch 40/102: Loss=0.8121, Acc=70.31%\n"
          ]
        },
        {
          "output_type": "stream",
          "name": "stderr",
          "text": [
            "Training:  49%|████▉     | 50/102 [00:44<00:46,  1.12it/s, Loss=0.7658, Acc=72.38%]"
          ]
        },
        {
          "output_type": "stream",
          "name": "stdout",
          "text": [
            "\n",
            "  Batch 50/102: Loss=0.7658, Acc=72.38%\n"
          ]
        },
        {
          "output_type": "stream",
          "name": "stderr",
          "text": [
            "Training:  59%|█████▉    | 60/102 [00:54<00:39,  1.06it/s, Loss=0.7529, Acc=73.23%]"
          ]
        },
        {
          "output_type": "stream",
          "name": "stdout",
          "text": [
            "\n",
            "  Batch 60/102: Loss=0.7529, Acc=73.23%\n"
          ]
        },
        {
          "output_type": "stream",
          "name": "stderr",
          "text": [
            "Training:  69%|██████▊   | 70/102 [01:02<00:27,  1.16it/s, Loss=0.7568, Acc=73.30%]"
          ]
        },
        {
          "output_type": "stream",
          "name": "stdout",
          "text": [
            "\n",
            "  Batch 70/102: Loss=0.7568, Acc=73.30%\n"
          ]
        },
        {
          "output_type": "stream",
          "name": "stderr",
          "text": [
            "Training:  78%|███████▊  | 80/102 [01:11<00:19,  1.15it/s, Loss=0.7382, Acc=73.83%]"
          ]
        },
        {
          "output_type": "stream",
          "name": "stdout",
          "text": [
            "\n",
            "  Batch 80/102: Loss=0.7382, Acc=73.83%\n"
          ]
        },
        {
          "output_type": "stream",
          "name": "stderr",
          "text": [
            "Training:  88%|████████▊ | 90/102 [01:20<00:10,  1.12it/s, Loss=0.7218, Acc=74.65%]"
          ]
        },
        {
          "output_type": "stream",
          "name": "stdout",
          "text": [
            "\n",
            "  Batch 90/102: Loss=0.7218, Acc=74.65%\n"
          ]
        },
        {
          "output_type": "stream",
          "name": "stderr",
          "text": [
            "Training:  98%|█████████▊| 100/102 [01:29<00:01,  1.02it/s, Loss=0.7125, Acc=74.75%]"
          ]
        },
        {
          "output_type": "stream",
          "name": "stdout",
          "text": [
            "\n",
            "  Batch 100/102: Loss=0.7125, Acc=74.75%\n"
          ]
        },
        {
          "output_type": "stream",
          "name": "stderr",
          "text": [
            "Training: 100%|██████████| 102/102 [01:30<00:00,  1.12it/s, Loss=0.7049, Acc=74.85%]\n"
          ]
        },
        {
          "output_type": "stream",
          "name": "stdout",
          "text": [
            "\n",
            "Validating...\n",
            "New best model saved!\n",
            "\n",
            " EPOCH 3 SUMMARY:\n",
            "   Train Loss: 0.7049 | Train Acc: 74.85%\n",
            "   Val Loss: 0.4949   | Val Acc: 79.54%\n",
            "   Time: 102.2s\n",
            "   Best Val Acc: 79.54%\n",
            "   ETA: 29.4 minutes remaining\n",
            "\n",
            "============================================================\n",
            "EPOCH 4/20\n",
            "============================================================\n"
          ]
        },
        {
          "output_type": "stream",
          "name": "stderr",
          "text": [
            "Training:  10%|▉         | 10/102 [00:08<01:19,  1.16it/s, Loss=0.7299, Acc=76.25%]"
          ]
        },
        {
          "output_type": "stream",
          "name": "stdout",
          "text": [
            "\n",
            "  Batch 10/102: Loss=0.7299, Acc=76.25%\n"
          ]
        },
        {
          "output_type": "stream",
          "name": "stderr",
          "text": [
            "Training:  20%|█▉        | 20/102 [00:17<01:11,  1.15it/s, Loss=0.6415, Acc=78.75%]"
          ]
        },
        {
          "output_type": "stream",
          "name": "stdout",
          "text": [
            "\n",
            "  Batch 20/102: Loss=0.6415, Acc=78.75%\n"
          ]
        },
        {
          "output_type": "stream",
          "name": "stderr",
          "text": [
            "Training:  29%|██▉       | 30/102 [00:26<01:04,  1.12it/s, Loss=0.6263, Acc=79.58%]"
          ]
        },
        {
          "output_type": "stream",
          "name": "stdout",
          "text": [
            "\n",
            "  Batch 30/102: Loss=0.6263, Acc=79.58%\n"
          ]
        },
        {
          "output_type": "stream",
          "name": "stderr",
          "text": [
            "Training:  39%|███▉      | 40/102 [00:35<01:00,  1.03it/s, Loss=0.5891, Acc=80.00%]"
          ]
        },
        {
          "output_type": "stream",
          "name": "stdout",
          "text": [
            "\n",
            "  Batch 40/102: Loss=0.5891, Acc=80.00%\n"
          ]
        },
        {
          "output_type": "stream",
          "name": "stderr",
          "text": [
            "Training:  49%|████▉     | 50/102 [00:44<00:45,  1.15it/s, Loss=0.5953, Acc=79.62%]"
          ]
        },
        {
          "output_type": "stream",
          "name": "stdout",
          "text": [
            "\n",
            "  Batch 50/102: Loss=0.5953, Acc=79.62%\n"
          ]
        },
        {
          "output_type": "stream",
          "name": "stderr",
          "text": [
            "Training:  59%|█████▉    | 60/102 [00:53<00:36,  1.15it/s, Loss=0.6127, Acc=79.17%]"
          ]
        },
        {
          "output_type": "stream",
          "name": "stdout",
          "text": [
            "\n",
            "  Batch 60/102: Loss=0.6127, Acc=79.17%\n"
          ]
        },
        {
          "output_type": "stream",
          "name": "stderr",
          "text": [
            "Training:  69%|██████▊   | 70/102 [01:02<00:29,  1.10it/s, Loss=0.6050, Acc=79.55%]"
          ]
        },
        {
          "output_type": "stream",
          "name": "stdout",
          "text": [
            "\n",
            "  Batch 70/102: Loss=0.6050, Acc=79.55%\n"
          ]
        },
        {
          "output_type": "stream",
          "name": "stderr",
          "text": [
            "Training:  78%|███████▊  | 80/102 [01:11<00:21,  1.04it/s, Loss=0.6042, Acc=79.30%]"
          ]
        },
        {
          "output_type": "stream",
          "name": "stdout",
          "text": [
            "\n",
            "  Batch 80/102: Loss=0.6042, Acc=79.30%\n"
          ]
        },
        {
          "output_type": "stream",
          "name": "stderr",
          "text": [
            "Training:  88%|████████▊ | 90/102 [01:20<00:10,  1.15it/s, Loss=0.6060, Acc=78.75%]"
          ]
        },
        {
          "output_type": "stream",
          "name": "stdout",
          "text": [
            "\n",
            "  Batch 90/102: Loss=0.6060, Acc=78.75%\n"
          ]
        },
        {
          "output_type": "stream",
          "name": "stderr",
          "text": [
            "Training:  98%|█████████▊| 100/102 [01:29<00:01,  1.14it/s, Loss=0.6334, Acc=77.94%]"
          ]
        },
        {
          "output_type": "stream",
          "name": "stdout",
          "text": [
            "\n",
            "  Batch 100/102: Loss=0.6334, Acc=77.94%\n"
          ]
        },
        {
          "output_type": "stream",
          "name": "stderr",
          "text": [
            "Training: 100%|██████████| 102/102 [01:30<00:00,  1.12it/s, Loss=0.6273, Acc=78.12%]\n"
          ]
        },
        {
          "output_type": "stream",
          "name": "stdout",
          "text": [
            "\n",
            "Validating...\n",
            "New best model saved!\n",
            "\n",
            " EPOCH 4 SUMMARY:\n",
            "   Train Loss: 0.6273 | Train Acc: 78.12%\n",
            "   Val Loss: 0.5707   | Val Acc: 81.84%\n",
            "   Time: 102.0s\n",
            "   Best Val Acc: 81.84%\n",
            "   ETA: 27.8 minutes remaining\n",
            "\n",
            "============================================================\n",
            "EPOCH 5/20\n",
            "============================================================\n"
          ]
        },
        {
          "output_type": "stream",
          "name": "stderr",
          "text": [
            "Training:  10%|▉         | 10/102 [00:09<01:20,  1.15it/s, Loss=0.5739, Acc=77.50%]"
          ]
        },
        {
          "output_type": "stream",
          "name": "stdout",
          "text": [
            "\n",
            "  Batch 10/102: Loss=0.5739, Acc=77.50%\n"
          ]
        },
        {
          "output_type": "stream",
          "name": "stderr",
          "text": [
            "Training:  20%|█▉        | 20/102 [00:18<01:13,  1.12it/s, Loss=0.6098, Acc=76.88%]"
          ]
        },
        {
          "output_type": "stream",
          "name": "stdout",
          "text": [
            "\n",
            "  Batch 20/102: Loss=0.6098, Acc=76.88%\n"
          ]
        },
        {
          "output_type": "stream",
          "name": "stderr",
          "text": [
            "Training:  29%|██▉       | 30/102 [00:27<01:10,  1.02it/s, Loss=0.6275, Acc=77.08%]"
          ]
        },
        {
          "output_type": "stream",
          "name": "stdout",
          "text": [
            "\n",
            "  Batch 30/102: Loss=0.6275, Acc=77.08%\n"
          ]
        },
        {
          "output_type": "stream",
          "name": "stderr",
          "text": [
            "Training:  39%|███▉      | 40/102 [00:35<00:53,  1.15it/s, Loss=0.6372, Acc=76.25%]"
          ]
        },
        {
          "output_type": "stream",
          "name": "stdout",
          "text": [
            "\n",
            "  Batch 40/102: Loss=0.6372, Acc=76.25%\n"
          ]
        },
        {
          "output_type": "stream",
          "name": "stderr",
          "text": [
            "Training:  49%|████▉     | 50/102 [00:45<00:45,  1.14it/s, Loss=0.6338, Acc=77.00%]"
          ]
        },
        {
          "output_type": "stream",
          "name": "stdout",
          "text": [
            "\n",
            "  Batch 50/102: Loss=0.6338, Acc=77.00%\n"
          ]
        },
        {
          "output_type": "stream",
          "name": "stderr",
          "text": [
            "Training:  59%|█████▉    | 60/102 [00:54<00:38,  1.10it/s, Loss=0.6108, Acc=77.60%]"
          ]
        },
        {
          "output_type": "stream",
          "name": "stdout",
          "text": [
            "\n",
            "  Batch 60/102: Loss=0.6108, Acc=77.60%\n"
          ]
        },
        {
          "output_type": "stream",
          "name": "stderr",
          "text": [
            "Training:  69%|██████▊   | 70/102 [01:03<00:30,  1.06it/s, Loss=0.6064, Acc=77.95%]"
          ]
        },
        {
          "output_type": "stream",
          "name": "stdout",
          "text": [
            "\n",
            "  Batch 70/102: Loss=0.6064, Acc=77.95%\n"
          ]
        },
        {
          "output_type": "stream",
          "name": "stderr",
          "text": [
            "Training:  78%|███████▊  | 80/102 [01:11<00:19,  1.15it/s, Loss=0.6186, Acc=77.19%]"
          ]
        },
        {
          "output_type": "stream",
          "name": "stdout",
          "text": [
            "\n",
            "  Batch 80/102: Loss=0.6186, Acc=77.19%\n"
          ]
        },
        {
          "output_type": "stream",
          "name": "stderr",
          "text": [
            "Training:  88%|████████▊ | 90/102 [01:21<00:10,  1.13it/s, Loss=0.6234, Acc=77.50%]"
          ]
        },
        {
          "output_type": "stream",
          "name": "stdout",
          "text": [
            "\n",
            "  Batch 90/102: Loss=0.6234, Acc=77.50%\n"
          ]
        },
        {
          "output_type": "stream",
          "name": "stderr",
          "text": [
            "Training:  98%|█████████▊| 100/102 [01:30<00:01,  1.08it/s, Loss=0.6267, Acc=77.69%]"
          ]
        },
        {
          "output_type": "stream",
          "name": "stdout",
          "text": [
            "\n",
            "  Batch 100/102: Loss=0.6267, Acc=77.69%\n"
          ]
        },
        {
          "output_type": "stream",
          "name": "stderr",
          "text": [
            "Training: 100%|██████████| 102/102 [01:31<00:00,  1.12it/s, Loss=0.6283, Acc=77.75%]\n"
          ]
        },
        {
          "output_type": "stream",
          "name": "stdout",
          "text": [
            "\n",
            "Validating...\n",
            "\n",
            " EPOCH 5 SUMMARY:\n",
            "   Train Loss: 0.6283 | Train Acc: 77.75%\n",
            "   Val Loss: 0.5599   | Val Acc: 79.54%\n",
            "   Time: 102.4s\n",
            "   Best Val Acc: 81.84%\n",
            "   ETA: 26.0 minutes remaining\n",
            "\n",
            "============================================================\n",
            "EPOCH 6/20\n",
            "============================================================\n"
          ]
        },
        {
          "output_type": "stream",
          "name": "stderr",
          "text": [
            "Training:  10%|▉         | 10/102 [00:08<01:20,  1.14it/s, Loss=0.8399, Acc=66.88%]"
          ]
        },
        {
          "output_type": "stream",
          "name": "stdout",
          "text": [
            "\n",
            "  Batch 10/102: Loss=0.8399, Acc=66.88%\n"
          ]
        },
        {
          "output_type": "stream",
          "name": "stderr",
          "text": [
            "Training:  20%|█▉        | 20/102 [00:17<01:11,  1.15it/s, Loss=0.6943, Acc=71.56%]"
          ]
        },
        {
          "output_type": "stream",
          "name": "stdout",
          "text": [
            "\n",
            "  Batch 20/102: Loss=0.6943, Acc=71.56%\n"
          ]
        },
        {
          "output_type": "stream",
          "name": "stderr",
          "text": [
            "Training:  29%|██▉       | 30/102 [00:26<01:03,  1.13it/s, Loss=0.6166, Acc=75.42%]"
          ]
        },
        {
          "output_type": "stream",
          "name": "stdout",
          "text": [
            "\n",
            "  Batch 30/102: Loss=0.6166, Acc=75.42%\n"
          ]
        },
        {
          "output_type": "stream",
          "name": "stderr",
          "text": [
            "Training:  39%|███▉      | 40/102 [00:35<00:58,  1.06it/s, Loss=0.6306, Acc=76.09%]"
          ]
        },
        {
          "output_type": "stream",
          "name": "stdout",
          "text": [
            "\n",
            "  Batch 40/102: Loss=0.6306, Acc=76.09%\n"
          ]
        },
        {
          "output_type": "stream",
          "name": "stderr",
          "text": [
            "Training:  49%|████▉     | 50/102 [00:44<00:45,  1.15it/s, Loss=0.6392, Acc=76.38%]"
          ]
        },
        {
          "output_type": "stream",
          "name": "stdout",
          "text": [
            "\n",
            "  Batch 50/102: Loss=0.6392, Acc=76.38%\n"
          ]
        },
        {
          "output_type": "stream",
          "name": "stderr",
          "text": [
            "Training:  59%|█████▉    | 60/102 [00:53<00:36,  1.15it/s, Loss=0.6242, Acc=77.08%]"
          ]
        },
        {
          "output_type": "stream",
          "name": "stdout",
          "text": [
            "\n",
            "  Batch 60/102: Loss=0.6242, Acc=77.08%\n"
          ]
        },
        {
          "output_type": "stream",
          "name": "stderr",
          "text": [
            "Training:  69%|██████▊   | 70/102 [01:02<00:28,  1.12it/s, Loss=0.6381, Acc=76.61%]"
          ]
        },
        {
          "output_type": "stream",
          "name": "stdout",
          "text": [
            "\n",
            "  Batch 70/102: Loss=0.6381, Acc=76.61%\n"
          ]
        },
        {
          "output_type": "stream",
          "name": "stderr",
          "text": [
            "Training:  78%|███████▊  | 80/102 [01:12<00:21,  1.03it/s, Loss=0.6471, Acc=75.86%]"
          ]
        },
        {
          "output_type": "stream",
          "name": "stdout",
          "text": [
            "\n",
            "  Batch 80/102: Loss=0.6471, Acc=75.86%\n"
          ]
        },
        {
          "output_type": "stream",
          "name": "stderr",
          "text": [
            "Training:  88%|████████▊ | 90/102 [01:20<00:10,  1.15it/s, Loss=0.6435, Acc=76.25%]"
          ]
        },
        {
          "output_type": "stream",
          "name": "stdout",
          "text": [
            "\n",
            "  Batch 90/102: Loss=0.6435, Acc=76.25%\n"
          ]
        },
        {
          "output_type": "stream",
          "name": "stderr",
          "text": [
            "Training:  98%|█████████▊| 100/102 [01:29<00:01,  1.15it/s, Loss=0.6356, Acc=76.38%]"
          ]
        },
        {
          "output_type": "stream",
          "name": "stdout",
          "text": [
            "\n",
            "  Batch 100/102: Loss=0.6356, Acc=76.38%\n"
          ]
        },
        {
          "output_type": "stream",
          "name": "stderr",
          "text": [
            "Training: 100%|██████████| 102/102 [01:30<00:00,  1.12it/s, Loss=0.6274, Acc=76.58%]\n"
          ]
        },
        {
          "output_type": "stream",
          "name": "stdout",
          "text": [
            "\n",
            "Validating...\n",
            "\n",
            " EPOCH 6 SUMMARY:\n",
            "   Train Loss: 0.6274 | Train Acc: 76.58%\n",
            "   Val Loss: 0.5600   | Val Acc: 78.67%\n",
            "   Time: 102.0s\n",
            "   Best Val Acc: 81.84%\n",
            "   ETA: 24.2 minutes remaining\n",
            "\n",
            "============================================================\n",
            "EPOCH 7/20\n",
            "============================================================\n"
          ]
        },
        {
          "output_type": "stream",
          "name": "stderr",
          "text": [
            "Training:  10%|▉         | 10/102 [00:09<01:23,  1.10it/s, Loss=0.8528, Acc=78.75%]"
          ]
        },
        {
          "output_type": "stream",
          "name": "stdout",
          "text": [
            "\n",
            "  Batch 10/102: Loss=0.8528, Acc=78.75%\n"
          ]
        },
        {
          "output_type": "stream",
          "name": "stderr",
          "text": [
            "Training:  20%|█▉        | 20/102 [00:18<01:20,  1.02it/s, Loss=0.7620, Acc=77.19%]"
          ]
        },
        {
          "output_type": "stream",
          "name": "stdout",
          "text": [
            "\n",
            "  Batch 20/102: Loss=0.7620, Acc=77.19%\n"
          ]
        },
        {
          "output_type": "stream",
          "name": "stderr",
          "text": [
            "Training:  29%|██▉       | 30/102 [00:26<01:03,  1.14it/s, Loss=0.6861, Acc=78.75%]"
          ]
        },
        {
          "output_type": "stream",
          "name": "stdout",
          "text": [
            "\n",
            "  Batch 30/102: Loss=0.6861, Acc=78.75%\n"
          ]
        },
        {
          "output_type": "stream",
          "name": "stderr",
          "text": [
            "Training:  39%|███▉      | 40/102 [00:36<00:54,  1.13it/s, Loss=0.6125, Acc=80.47%]"
          ]
        },
        {
          "output_type": "stream",
          "name": "stdout",
          "text": [
            "\n",
            "  Batch 40/102: Loss=0.6125, Acc=80.47%\n"
          ]
        },
        {
          "output_type": "stream",
          "name": "stderr",
          "text": [
            "Training:  49%|████▉     | 50/102 [00:45<00:47,  1.09it/s, Loss=0.5895, Acc=79.75%]"
          ]
        },
        {
          "output_type": "stream",
          "name": "stdout",
          "text": [
            "\n",
            "  Batch 50/102: Loss=0.5895, Acc=79.75%\n"
          ]
        },
        {
          "output_type": "stream",
          "name": "stderr",
          "text": [
            "Training:  59%|█████▉    | 60/102 [00:54<00:39,  1.06it/s, Loss=0.5930, Acc=79.48%]"
          ]
        },
        {
          "output_type": "stream",
          "name": "stdout",
          "text": [
            "\n",
            "  Batch 60/102: Loss=0.5930, Acc=79.48%\n"
          ]
        },
        {
          "output_type": "stream",
          "name": "stderr",
          "text": [
            "Training:  69%|██████▊   | 70/102 [01:02<00:27,  1.15it/s, Loss=0.5993, Acc=79.38%]"
          ]
        },
        {
          "output_type": "stream",
          "name": "stdout",
          "text": [
            "\n",
            "  Batch 70/102: Loss=0.5993, Acc=79.38%\n"
          ]
        },
        {
          "output_type": "stream",
          "name": "stderr",
          "text": [
            "Training:  78%|███████▊  | 80/102 [01:12<00:19,  1.13it/s, Loss=0.5688, Acc=80.86%]"
          ]
        },
        {
          "output_type": "stream",
          "name": "stdout",
          "text": [
            "\n",
            "  Batch 80/102: Loss=0.5688, Acc=80.86%\n"
          ]
        },
        {
          "output_type": "stream",
          "name": "stderr",
          "text": [
            "Training:  88%|████████▊ | 90/102 [01:21<00:11,  1.08it/s, Loss=0.5637, Acc=81.04%]"
          ]
        },
        {
          "output_type": "stream",
          "name": "stdout",
          "text": [
            "\n",
            "  Batch 90/102: Loss=0.5637, Acc=81.04%\n"
          ]
        },
        {
          "output_type": "stream",
          "name": "stderr",
          "text": [
            "Training:  98%|█████████▊| 100/102 [01:29<00:01,  1.13it/s, Loss=0.5642, Acc=80.88%]"
          ]
        },
        {
          "output_type": "stream",
          "name": "stdout",
          "text": [
            "\n",
            "  Batch 100/102: Loss=0.5642, Acc=80.88%\n"
          ]
        },
        {
          "output_type": "stream",
          "name": "stderr",
          "text": [
            "Training: 100%|██████████| 102/102 [01:31<00:00,  1.12it/s, Loss=0.5595, Acc=80.78%]\n"
          ]
        },
        {
          "output_type": "stream",
          "name": "stdout",
          "text": [
            "\n",
            "Validating...\n",
            "New best model saved!\n",
            "\n",
            " EPOCH 7 SUMMARY:\n",
            "   Train Loss: 0.5595 | Train Acc: 80.78%\n",
            "   Val Loss: 0.4579   | Val Acc: 83.57%\n",
            "   Time: 102.1s\n",
            "   Best Val Acc: 83.57%\n",
            "   ETA: 22.4 minutes remaining\n",
            "\n",
            "============================================================\n",
            "EPOCH 8/20\n",
            "============================================================\n"
          ]
        },
        {
          "output_type": "stream",
          "name": "stderr",
          "text": [
            "Training:  10%|▉         | 10/102 [00:08<01:19,  1.15it/s, Loss=0.3434, Acc=90.62%]"
          ]
        },
        {
          "output_type": "stream",
          "name": "stdout",
          "text": [
            "\n",
            "  Batch 10/102: Loss=0.3434, Acc=90.62%\n"
          ]
        },
        {
          "output_type": "stream",
          "name": "stderr",
          "text": [
            "Training:  20%|█▉        | 20/102 [00:18<01:12,  1.13it/s, Loss=0.4212, Acc=86.56%]"
          ]
        },
        {
          "output_type": "stream",
          "name": "stdout",
          "text": [
            "\n",
            "  Batch 20/102: Loss=0.4212, Acc=86.56%\n"
          ]
        },
        {
          "output_type": "stream",
          "name": "stderr",
          "text": [
            "Training:  29%|██▉       | 30/102 [00:27<01:06,  1.08it/s, Loss=0.4746, Acc=83.54%]"
          ]
        },
        {
          "output_type": "stream",
          "name": "stdout",
          "text": [
            "\n",
            "  Batch 30/102: Loss=0.4746, Acc=83.54%\n"
          ]
        },
        {
          "output_type": "stream",
          "name": "stderr",
          "text": [
            "Training:  39%|███▉      | 40/102 [00:35<00:54,  1.14it/s, Loss=0.5022, Acc=83.12%]"
          ]
        },
        {
          "output_type": "stream",
          "name": "stdout",
          "text": [
            "\n",
            "  Batch 40/102: Loss=0.5022, Acc=83.12%\n"
          ]
        },
        {
          "output_type": "stream",
          "name": "stderr",
          "text": [
            "Training:  49%|████▉     | 50/102 [00:45<00:45,  1.14it/s, Loss=0.5146, Acc=82.88%]"
          ]
        },
        {
          "output_type": "stream",
          "name": "stdout",
          "text": [
            "\n",
            "  Batch 50/102: Loss=0.5146, Acc=82.88%\n"
          ]
        },
        {
          "output_type": "stream",
          "name": "stderr",
          "text": [
            "Training:  59%|█████▉    | 60/102 [00:54<00:37,  1.13it/s, Loss=0.5094, Acc=82.71%]"
          ]
        },
        {
          "output_type": "stream",
          "name": "stdout",
          "text": [
            "\n",
            "  Batch 60/102: Loss=0.5094, Acc=82.71%\n"
          ]
        },
        {
          "output_type": "stream",
          "name": "stderr",
          "text": [
            "Training:  69%|██████▊   | 70/102 [01:03<00:30,  1.07it/s, Loss=0.5008, Acc=83.04%]"
          ]
        },
        {
          "output_type": "stream",
          "name": "stdout",
          "text": [
            "\n",
            "  Batch 70/102: Loss=0.5008, Acc=83.04%\n"
          ]
        },
        {
          "output_type": "stream",
          "name": "stderr",
          "text": [
            "Training:  78%|███████▊  | 80/102 [01:11<00:19,  1.15it/s, Loss=0.5011, Acc=82.73%]"
          ]
        },
        {
          "output_type": "stream",
          "name": "stdout",
          "text": [
            "\n",
            "  Batch 80/102: Loss=0.5011, Acc=82.73%\n"
          ]
        },
        {
          "output_type": "stream",
          "name": "stderr",
          "text": [
            "Training:  88%|████████▊ | 90/102 [01:21<00:10,  1.14it/s, Loss=0.4931, Acc=83.06%]"
          ]
        },
        {
          "output_type": "stream",
          "name": "stdout",
          "text": [
            "\n",
            "  Batch 90/102: Loss=0.4931, Acc=83.06%\n"
          ]
        },
        {
          "output_type": "stream",
          "name": "stderr",
          "text": [
            "Training:  98%|█████████▊| 100/102 [01:30<00:01,  1.12it/s, Loss=0.4944, Acc=82.88%]"
          ]
        },
        {
          "output_type": "stream",
          "name": "stdout",
          "text": [
            "\n",
            "  Batch 100/102: Loss=0.4944, Acc=82.88%\n"
          ]
        },
        {
          "output_type": "stream",
          "name": "stderr",
          "text": [
            "Training: 100%|██████████| 102/102 [01:31<00:00,  1.12it/s, Loss=0.5036, Acc=82.82%]\n"
          ]
        },
        {
          "output_type": "stream",
          "name": "stdout",
          "text": [
            "\n",
            "Validating...\n",
            "\n",
            " EPOCH 8 SUMMARY:\n",
            "   Train Loss: 0.5036 | Train Acc: 82.82%\n",
            "   Val Loss: 0.4656   | Val Acc: 81.27%\n",
            "   Time: 102.6s\n",
            "   Best Val Acc: 83.57%\n",
            "   ETA: 20.7 minutes remaining\n",
            "\n",
            "============================================================\n",
            "EPOCH 9/20\n",
            "============================================================\n"
          ]
        },
        {
          "output_type": "stream",
          "name": "stderr",
          "text": [
            "Training:  10%|▉         | 10/102 [00:09<01:29,  1.03it/s, Loss=0.5448, Acc=81.88%]"
          ]
        },
        {
          "output_type": "stream",
          "name": "stdout",
          "text": [
            "\n",
            "  Batch 10/102: Loss=0.5448, Acc=81.88%\n"
          ]
        },
        {
          "output_type": "stream",
          "name": "stderr",
          "text": [
            "Training:  20%|█▉        | 20/102 [00:17<01:11,  1.15it/s, Loss=0.4926, Acc=84.38%]"
          ]
        },
        {
          "output_type": "stream",
          "name": "stdout",
          "text": [
            "\n",
            "  Batch 20/102: Loss=0.4926, Acc=84.38%\n"
          ]
        },
        {
          "output_type": "stream",
          "name": "stderr",
          "text": [
            "Training:  29%|██▉       | 30/102 [00:26<01:03,  1.14it/s, Loss=0.4630, Acc=85.21%]"
          ]
        },
        {
          "output_type": "stream",
          "name": "stdout",
          "text": [
            "\n",
            "  Batch 30/102: Loss=0.4630, Acc=85.21%\n"
          ]
        },
        {
          "output_type": "stream",
          "name": "stderr",
          "text": [
            "Training:  39%|███▉      | 40/102 [00:36<00:56,  1.10it/s, Loss=0.5063, Acc=83.59%]"
          ]
        },
        {
          "output_type": "stream",
          "name": "stdout",
          "text": [
            "\n",
            "  Batch 40/102: Loss=0.5063, Acc=83.59%\n"
          ]
        },
        {
          "output_type": "stream",
          "name": "stderr",
          "text": [
            "Training:  49%|████▉     | 50/102 [00:45<00:51,  1.01it/s, Loss=0.5240, Acc=82.00%]"
          ]
        },
        {
          "output_type": "stream",
          "name": "stdout",
          "text": [
            "\n",
            "  Batch 50/102: Loss=0.5240, Acc=82.00%\n"
          ]
        },
        {
          "output_type": "stream",
          "name": "stderr",
          "text": [
            "Training:  59%|█████▉    | 60/102 [00:53<00:36,  1.15it/s, Loss=0.5278, Acc=81.88%]"
          ]
        },
        {
          "output_type": "stream",
          "name": "stdout",
          "text": [
            "\n",
            "  Batch 60/102: Loss=0.5278, Acc=81.88%\n"
          ]
        },
        {
          "output_type": "stream",
          "name": "stderr",
          "text": [
            "Training:  69%|██████▊   | 70/102 [01:03<00:28,  1.14it/s, Loss=0.5234, Acc=81.96%]"
          ]
        },
        {
          "output_type": "stream",
          "name": "stdout",
          "text": [
            "\n",
            "  Batch 70/102: Loss=0.5234, Acc=81.96%\n"
          ]
        },
        {
          "output_type": "stream",
          "name": "stderr",
          "text": [
            "Training:  78%|███████▊  | 80/102 [01:12<00:19,  1.10it/s, Loss=0.5325, Acc=81.88%]"
          ]
        },
        {
          "output_type": "stream",
          "name": "stdout",
          "text": [
            "\n",
            "  Batch 80/102: Loss=0.5325, Acc=81.88%\n"
          ]
        },
        {
          "output_type": "stream",
          "name": "stderr",
          "text": [
            "Training:  88%|████████▊ | 90/102 [01:21<00:11,  1.07it/s, Loss=0.5318, Acc=81.94%]"
          ]
        },
        {
          "output_type": "stream",
          "name": "stdout",
          "text": [
            "\n",
            "  Batch 90/102: Loss=0.5318, Acc=81.94%\n"
          ]
        },
        {
          "output_type": "stream",
          "name": "stderr",
          "text": [
            "Training:  98%|█████████▊| 100/102 [01:29<00:01,  1.15it/s, Loss=0.5238, Acc=82.06%]"
          ]
        },
        {
          "output_type": "stream",
          "name": "stdout",
          "text": [
            "\n",
            "  Batch 100/102: Loss=0.5238, Acc=82.06%\n"
          ]
        },
        {
          "output_type": "stream",
          "name": "stderr",
          "text": [
            "Training: 100%|██████████| 102/102 [01:31<00:00,  1.12it/s, Loss=0.5421, Acc=81.89%]\n"
          ]
        },
        {
          "output_type": "stream",
          "name": "stdout",
          "text": [
            "\n",
            "Validating...\n",
            "\n",
            " EPOCH 9 SUMMARY:\n",
            "   Train Loss: 0.5421 | Train Acc: 81.89%\n",
            "   Val Loss: 0.6900   | Val Acc: 74.93%\n",
            "   Time: 102.2s\n",
            "   Best Val Acc: 83.57%\n",
            "   ETA: 18.9 minutes remaining\n",
            "\n",
            "============================================================\n",
            "EPOCH 10/20\n",
            "============================================================\n"
          ]
        },
        {
          "output_type": "stream",
          "name": "stderr",
          "text": [
            "Training:  10%|▉         | 10/102 [00:09<01:20,  1.14it/s, Loss=0.7950, Acc=80.62%]"
          ]
        },
        {
          "output_type": "stream",
          "name": "stdout",
          "text": [
            "\n",
            "  Batch 10/102: Loss=0.7950, Acc=80.62%\n"
          ]
        },
        {
          "output_type": "stream",
          "name": "stderr",
          "text": [
            "Training:  20%|█▉        | 20/102 [00:18<01:15,  1.09it/s, Loss=0.7941, Acc=75.00%]"
          ]
        },
        {
          "output_type": "stream",
          "name": "stdout",
          "text": [
            "\n",
            "  Batch 20/102: Loss=0.7941, Acc=75.00%\n"
          ]
        },
        {
          "output_type": "stream",
          "name": "stderr",
          "text": [
            "Training:  29%|██▉       | 30/102 [00:26<01:03,  1.14it/s, Loss=0.7248, Acc=76.88%]"
          ]
        },
        {
          "output_type": "stream",
          "name": "stdout",
          "text": [
            "\n",
            "  Batch 30/102: Loss=0.7248, Acc=76.88%\n"
          ]
        },
        {
          "output_type": "stream",
          "name": "stderr",
          "text": [
            "Training:  39%|███▉      | 40/102 [00:35<00:53,  1.15it/s, Loss=0.6951, Acc=77.19%]"
          ]
        },
        {
          "output_type": "stream",
          "name": "stdout",
          "text": [
            "\n",
            "  Batch 40/102: Loss=0.6951, Acc=77.19%\n"
          ]
        },
        {
          "output_type": "stream",
          "name": "stderr",
          "text": [
            "Training:  49%|████▉     | 50/102 [00:45<00:45,  1.13it/s, Loss=0.6871, Acc=76.88%]"
          ]
        },
        {
          "output_type": "stream",
          "name": "stdout",
          "text": [
            "\n",
            "  Batch 50/102: Loss=0.6871, Acc=76.88%\n"
          ]
        },
        {
          "output_type": "stream",
          "name": "stderr",
          "text": [
            "Training:  59%|█████▉    | 60/102 [00:54<00:39,  1.05it/s, Loss=0.6642, Acc=77.60%]"
          ]
        },
        {
          "output_type": "stream",
          "name": "stdout",
          "text": [
            "\n",
            "  Batch 60/102: Loss=0.6642, Acc=77.60%\n"
          ]
        },
        {
          "output_type": "stream",
          "name": "stderr",
          "text": [
            "Training:  69%|██████▊   | 70/102 [01:02<00:27,  1.15it/s, Loss=0.6562, Acc=77.41%]"
          ]
        },
        {
          "output_type": "stream",
          "name": "stdout",
          "text": [
            "\n",
            "  Batch 70/102: Loss=0.6562, Acc=77.41%\n"
          ]
        },
        {
          "output_type": "stream",
          "name": "stderr",
          "text": [
            "Training:  78%|███████▊  | 80/102 [01:12<00:19,  1.14it/s, Loss=0.6604, Acc=76.80%]"
          ]
        },
        {
          "output_type": "stream",
          "name": "stdout",
          "text": [
            "\n",
            "  Batch 80/102: Loss=0.6604, Acc=76.80%\n"
          ]
        },
        {
          "output_type": "stream",
          "name": "stderr",
          "text": [
            "Training:  88%|████████▊ | 90/102 [01:21<00:10,  1.11it/s, Loss=0.6381, Acc=77.71%]"
          ]
        },
        {
          "output_type": "stream",
          "name": "stdout",
          "text": [
            "\n",
            "  Batch 90/102: Loss=0.6381, Acc=77.71%\n"
          ]
        },
        {
          "output_type": "stream",
          "name": "stderr",
          "text": [
            "Training:  98%|█████████▊| 100/102 [01:30<00:01,  1.04it/s, Loss=0.6241, Acc=78.56%]"
          ]
        },
        {
          "output_type": "stream",
          "name": "stdout",
          "text": [
            "\n",
            "  Batch 100/102: Loss=0.6241, Acc=78.56%\n"
          ]
        },
        {
          "output_type": "stream",
          "name": "stderr",
          "text": [
            "Training: 100%|██████████| 102/102 [01:31<00:00,  1.12it/s, Loss=0.6207, Acc=78.49%]\n"
          ]
        },
        {
          "output_type": "stream",
          "name": "stdout",
          "text": [
            "\n",
            "Validating...\n",
            "\n",
            " EPOCH 10 SUMMARY:\n",
            "   Train Loss: 0.6207 | Train Acc: 78.49%\n",
            "   Val Loss: 0.5187   | Val Acc: 82.13%\n",
            "   Time: 102.6s\n",
            "   Best Val Acc: 83.57%\n",
            "   ETA: 17.2 minutes remaining\n",
            "\n",
            "============================================================\n",
            "EPOCH 11/20\n",
            "============================================================\n"
          ]
        },
        {
          "output_type": "stream",
          "name": "stderr",
          "text": [
            "Training:  10%|▉         | 10/102 [00:08<01:19,  1.16it/s, Loss=0.3505, Acc=86.25%]"
          ]
        },
        {
          "output_type": "stream",
          "name": "stdout",
          "text": [
            "\n",
            "  Batch 10/102: Loss=0.3505, Acc=86.25%\n"
          ]
        },
        {
          "output_type": "stream",
          "name": "stderr",
          "text": [
            "Training:  20%|█▉        | 20/102 [00:17<01:12,  1.14it/s, Loss=0.3628, Acc=87.19%]"
          ]
        },
        {
          "output_type": "stream",
          "name": "stdout",
          "text": [
            "\n",
            "  Batch 20/102: Loss=0.3628, Acc=87.19%\n"
          ]
        },
        {
          "output_type": "stream",
          "name": "stderr",
          "text": [
            "Training:  29%|██▉       | 30/102 [00:26<01:04,  1.11it/s, Loss=0.3696, Acc=86.46%]"
          ]
        },
        {
          "output_type": "stream",
          "name": "stdout",
          "text": [
            "\n",
            "  Batch 30/102: Loss=0.3696, Acc=86.46%\n"
          ]
        },
        {
          "output_type": "stream",
          "name": "stderr",
          "text": [
            "Training:  39%|███▉      | 40/102 [00:36<01:00,  1.02it/s, Loss=0.3594, Acc=87.50%]"
          ]
        },
        {
          "output_type": "stream",
          "name": "stdout",
          "text": [
            "\n",
            "  Batch 40/102: Loss=0.3594, Acc=87.50%\n"
          ]
        },
        {
          "output_type": "stream",
          "name": "stderr",
          "text": [
            "Training:  49%|████▉     | 50/102 [00:44<00:45,  1.14it/s, Loss=0.3432, Acc=88.00%]"
          ]
        },
        {
          "output_type": "stream",
          "name": "stdout",
          "text": [
            "\n",
            "  Batch 50/102: Loss=0.3432, Acc=88.00%\n"
          ]
        },
        {
          "output_type": "stream",
          "name": "stderr",
          "text": [
            "Training:  59%|█████▉    | 60/102 [00:53<00:36,  1.14it/s, Loss=0.3288, Acc=88.75%]"
          ]
        },
        {
          "output_type": "stream",
          "name": "stdout",
          "text": [
            "\n",
            "  Batch 60/102: Loss=0.3288, Acc=88.75%\n"
          ]
        },
        {
          "output_type": "stream",
          "name": "stderr",
          "text": [
            "Training:  69%|██████▊   | 70/102 [01:02<00:28,  1.10it/s, Loss=0.3292, Acc=88.48%]"
          ]
        },
        {
          "output_type": "stream",
          "name": "stdout",
          "text": [
            "\n",
            "  Batch 70/102: Loss=0.3292, Acc=88.48%\n"
          ]
        },
        {
          "output_type": "stream",
          "name": "stderr",
          "text": [
            "Training:  78%|███████▊  | 80/102 [01:11<00:20,  1.06it/s, Loss=0.3158, Acc=88.98%]"
          ]
        },
        {
          "output_type": "stream",
          "name": "stdout",
          "text": [
            "\n",
            "  Batch 80/102: Loss=0.3158, Acc=88.98%\n"
          ]
        },
        {
          "output_type": "stream",
          "name": "stderr",
          "text": [
            "Training:  88%|████████▊ | 90/102 [01:20<00:10,  1.15it/s, Loss=0.3092, Acc=89.31%]"
          ]
        },
        {
          "output_type": "stream",
          "name": "stdout",
          "text": [
            "\n",
            "  Batch 90/102: Loss=0.3092, Acc=89.31%\n"
          ]
        },
        {
          "output_type": "stream",
          "name": "stderr",
          "text": [
            "Training:  98%|█████████▊| 100/102 [01:29<00:01,  1.13it/s, Loss=0.2982, Acc=89.62%]"
          ]
        },
        {
          "output_type": "stream",
          "name": "stdout",
          "text": [
            "\n",
            "  Batch 100/102: Loss=0.2982, Acc=89.62%\n"
          ]
        },
        {
          "output_type": "stream",
          "name": "stderr",
          "text": [
            "Training: 100%|██████████| 102/102 [01:30<00:00,  1.12it/s, Loss=0.3031, Acc=89.56%]\n"
          ]
        },
        {
          "output_type": "stream",
          "name": "stdout",
          "text": [
            "\n",
            "Validating...\n",
            "New best model saved!\n",
            "\n",
            " EPOCH 11 SUMMARY:\n",
            "   Train Loss: 0.3031 | Train Acc: 89.56%\n",
            "   Val Loss: 0.3945   | Val Acc: 86.46%\n",
            "   Time: 102.2s\n",
            "   Best Val Acc: 86.46%\n",
            "   ETA: 15.5 minutes remaining\n",
            "\n",
            "============================================================\n",
            "EPOCH 12/20\n",
            "============================================================\n"
          ]
        },
        {
          "output_type": "stream",
          "name": "stderr",
          "text": [
            "Training:  10%|▉         | 10/102 [00:09<01:20,  1.14it/s, Loss=0.3056, Acc=87.50%]"
          ]
        },
        {
          "output_type": "stream",
          "name": "stdout",
          "text": [
            "\n",
            "  Batch 10/102: Loss=0.3056, Acc=87.50%\n"
          ]
        },
        {
          "output_type": "stream",
          "name": "stderr",
          "text": [
            "Training:  20%|█▉        | 20/102 [00:18<01:15,  1.09it/s, Loss=0.2705, Acc=89.69%]"
          ]
        },
        {
          "output_type": "stream",
          "name": "stdout",
          "text": [
            "\n",
            "  Batch 20/102: Loss=0.2705, Acc=89.69%\n"
          ]
        },
        {
          "output_type": "stream",
          "name": "stderr",
          "text": [
            "Training:  29%|██▉       | 30/102 [00:27<01:07,  1.07it/s, Loss=0.2754, Acc=89.38%]"
          ]
        },
        {
          "output_type": "stream",
          "name": "stdout",
          "text": [
            "\n",
            "  Batch 30/102: Loss=0.2754, Acc=89.38%\n"
          ]
        },
        {
          "output_type": "stream",
          "name": "stderr",
          "text": [
            "Training:  39%|███▉      | 40/102 [00:36<00:53,  1.16it/s, Loss=0.2721, Acc=89.06%]"
          ]
        },
        {
          "output_type": "stream",
          "name": "stdout",
          "text": [
            "\n",
            "  Batch 40/102: Loss=0.2721, Acc=89.06%\n"
          ]
        },
        {
          "output_type": "stream",
          "name": "stderr",
          "text": [
            "Training:  49%|████▉     | 50/102 [00:45<00:46,  1.12it/s, Loss=0.2526, Acc=89.75%]"
          ]
        },
        {
          "output_type": "stream",
          "name": "stdout",
          "text": [
            "\n",
            "  Batch 50/102: Loss=0.2526, Acc=89.75%\n"
          ]
        },
        {
          "output_type": "stream",
          "name": "stderr",
          "text": [
            "Training:  59%|█████▉    | 60/102 [00:54<00:38,  1.08it/s, Loss=0.2480, Acc=90.31%]"
          ]
        },
        {
          "output_type": "stream",
          "name": "stdout",
          "text": [
            "\n",
            "  Batch 60/102: Loss=0.2480, Acc=90.31%\n"
          ]
        },
        {
          "output_type": "stream",
          "name": "stderr",
          "text": [
            "Training:  69%|██████▊   | 70/102 [01:02<00:27,  1.16it/s, Loss=0.2458, Acc=90.36%]"
          ]
        },
        {
          "output_type": "stream",
          "name": "stdout",
          "text": [
            "\n",
            "  Batch 70/102: Loss=0.2458, Acc=90.36%\n"
          ]
        },
        {
          "output_type": "stream",
          "name": "stderr",
          "text": [
            "Training:  78%|███████▊  | 80/102 [01:12<00:19,  1.14it/s, Loss=0.2444, Acc=90.78%]"
          ]
        },
        {
          "output_type": "stream",
          "name": "stdout",
          "text": [
            "\n",
            "  Batch 80/102: Loss=0.2444, Acc=90.78%\n"
          ]
        },
        {
          "output_type": "stream",
          "name": "stderr",
          "text": [
            "Training:  88%|████████▊ | 90/102 [01:21<00:10,  1.13it/s, Loss=0.2386, Acc=90.97%]"
          ]
        },
        {
          "output_type": "stream",
          "name": "stdout",
          "text": [
            "\n",
            "  Batch 90/102: Loss=0.2386, Acc=90.97%\n"
          ]
        },
        {
          "output_type": "stream",
          "name": "stderr",
          "text": [
            "Training:  98%|█████████▊| 100/102 [01:30<00:01,  1.05it/s, Loss=0.2363, Acc=90.94%]"
          ]
        },
        {
          "output_type": "stream",
          "name": "stdout",
          "text": [
            "\n",
            "  Batch 100/102: Loss=0.2363, Acc=90.94%\n"
          ]
        },
        {
          "output_type": "stream",
          "name": "stderr",
          "text": [
            "Training: 100%|██████████| 102/102 [01:31<00:00,  1.12it/s, Loss=0.2368, Acc=90.91%]\n"
          ]
        },
        {
          "output_type": "stream",
          "name": "stdout",
          "text": [
            "\n",
            "Validating...\n",
            "\n",
            " EPOCH 12 SUMMARY:\n",
            "   Train Loss: 0.2368 | Train Acc: 90.91%\n",
            "   Val Loss: 0.3976   | Val Acc: 85.88%\n",
            "   Time: 102.7s\n",
            "   Best Val Acc: 86.46%\n",
            "   ETA: 13.8 minutes remaining\n",
            "\n",
            "============================================================\n",
            "EPOCH 13/20\n",
            "============================================================\n"
          ]
        },
        {
          "output_type": "stream",
          "name": "stderr",
          "text": [
            "Training:  10%|▉         | 10/102 [00:08<01:19,  1.15it/s, Loss=0.1974, Acc=91.88%]"
          ]
        },
        {
          "output_type": "stream",
          "name": "stdout",
          "text": [
            "\n",
            "  Batch 10/102: Loss=0.1974, Acc=91.88%\n"
          ]
        },
        {
          "output_type": "stream",
          "name": "stderr",
          "text": [
            "Training:  20%|█▉        | 20/102 [00:17<01:12,  1.14it/s, Loss=0.1901, Acc=92.81%]"
          ]
        },
        {
          "output_type": "stream",
          "name": "stdout",
          "text": [
            "\n",
            "  Batch 20/102: Loss=0.1901, Acc=92.81%\n"
          ]
        },
        {
          "output_type": "stream",
          "name": "stderr",
          "text": [
            "Training:  29%|██▉       | 30/102 [00:26<01:04,  1.12it/s, Loss=0.1849, Acc=92.92%]"
          ]
        },
        {
          "output_type": "stream",
          "name": "stdout",
          "text": [
            "\n",
            "  Batch 30/102: Loss=0.1849, Acc=92.92%\n"
          ]
        },
        {
          "output_type": "stream",
          "name": "stderr",
          "text": [
            "Training:  39%|███▉      | 40/102 [00:36<01:00,  1.02it/s, Loss=0.1974, Acc=92.34%]"
          ]
        },
        {
          "output_type": "stream",
          "name": "stdout",
          "text": [
            "\n",
            "  Batch 40/102: Loss=0.1974, Acc=92.34%\n"
          ]
        },
        {
          "output_type": "stream",
          "name": "stderr",
          "text": [
            "Training:  49%|████▉     | 50/102 [00:44<00:45,  1.15it/s, Loss=0.2145, Acc=91.50%]"
          ]
        },
        {
          "output_type": "stream",
          "name": "stdout",
          "text": [
            "\n",
            "  Batch 50/102: Loss=0.2145, Acc=91.50%\n"
          ]
        },
        {
          "output_type": "stream",
          "name": "stderr",
          "text": [
            "Training:  59%|█████▉    | 60/102 [00:53<00:36,  1.14it/s, Loss=0.2049, Acc=92.19%]"
          ]
        },
        {
          "output_type": "stream",
          "name": "stdout",
          "text": [
            "\n",
            "  Batch 60/102: Loss=0.2049, Acc=92.19%\n"
          ]
        },
        {
          "output_type": "stream",
          "name": "stderr",
          "text": [
            "Training:  69%|██████▊   | 70/102 [01:02<00:29,  1.10it/s, Loss=0.2153, Acc=91.79%]"
          ]
        },
        {
          "output_type": "stream",
          "name": "stdout",
          "text": [
            "\n",
            "  Batch 70/102: Loss=0.2153, Acc=91.79%\n"
          ]
        },
        {
          "output_type": "stream",
          "name": "stderr",
          "text": [
            "Training:  78%|███████▊  | 80/102 [01:12<00:21,  1.03it/s, Loss=0.2056, Acc=92.19%]"
          ]
        },
        {
          "output_type": "stream",
          "name": "stdout",
          "text": [
            "\n",
            "  Batch 80/102: Loss=0.2056, Acc=92.19%\n"
          ]
        },
        {
          "output_type": "stream",
          "name": "stderr",
          "text": [
            "Training:  88%|████████▊ | 90/102 [01:20<00:10,  1.14it/s, Loss=0.2024, Acc=92.36%]"
          ]
        },
        {
          "output_type": "stream",
          "name": "stdout",
          "text": [
            "\n",
            "  Batch 90/102: Loss=0.2024, Acc=92.36%\n"
          ]
        },
        {
          "output_type": "stream",
          "name": "stderr",
          "text": [
            "Training:  98%|█████████▊| 100/102 [01:29<00:01,  1.13it/s, Loss=0.2040, Acc=92.38%]"
          ]
        },
        {
          "output_type": "stream",
          "name": "stdout",
          "text": [
            "\n",
            "  Batch 100/102: Loss=0.2040, Acc=92.38%\n"
          ]
        },
        {
          "output_type": "stream",
          "name": "stderr",
          "text": [
            "Training: 100%|██████████| 102/102 [01:30<00:00,  1.12it/s, Loss=0.2009, Acc=92.46%]\n"
          ]
        },
        {
          "output_type": "stream",
          "name": "stdout",
          "text": [
            "\n",
            "Validating...\n",
            "New best model saved!\n",
            "\n",
            " EPOCH 13 SUMMARY:\n",
            "   Train Loss: 0.2009 | Train Acc: 92.46%\n",
            "   Val Loss: 0.4003   | Val Acc: 86.74%\n",
            "   Time: 102.2s\n",
            "   Best Val Acc: 86.74%\n",
            "   ETA: 12.1 minutes remaining\n",
            "\n",
            "============================================================\n",
            "EPOCH 14/20\n",
            "============================================================\n"
          ]
        },
        {
          "output_type": "stream",
          "name": "stderr",
          "text": [
            "Training:  10%|▉         | 10/102 [00:08<01:19,  1.16it/s, Loss=0.1748, Acc=93.12%]"
          ]
        },
        {
          "output_type": "stream",
          "name": "stdout",
          "text": [
            "\n",
            "  Batch 10/102: Loss=0.1748, Acc=93.12%\n"
          ]
        },
        {
          "output_type": "stream",
          "name": "stderr",
          "text": [
            "Training:  20%|█▉        | 20/102 [00:17<01:11,  1.14it/s, Loss=0.1716, Acc=93.44%]"
          ]
        },
        {
          "output_type": "stream",
          "name": "stdout",
          "text": [
            "\n",
            "  Batch 20/102: Loss=0.1716, Acc=93.44%\n"
          ]
        },
        {
          "output_type": "stream",
          "name": "stderr",
          "text": [
            "Training:  29%|██▉       | 30/102 [00:26<01:05,  1.10it/s, Loss=0.1612, Acc=94.58%]"
          ]
        },
        {
          "output_type": "stream",
          "name": "stdout",
          "text": [
            "\n",
            "  Batch 30/102: Loss=0.1612, Acc=94.58%\n"
          ]
        },
        {
          "output_type": "stream",
          "name": "stderr",
          "text": [
            "Training:  39%|███▉      | 40/102 [00:35<00:59,  1.05it/s, Loss=0.1506, Acc=95.16%]"
          ]
        },
        {
          "output_type": "stream",
          "name": "stdout",
          "text": [
            "\n",
            "  Batch 40/102: Loss=0.1506, Acc=95.16%\n"
          ]
        },
        {
          "output_type": "stream",
          "name": "stderr",
          "text": [
            "Training:  49%|████▉     | 50/102 [00:44<00:45,  1.15it/s, Loss=0.1724, Acc=94.12%]"
          ]
        },
        {
          "output_type": "stream",
          "name": "stdout",
          "text": [
            "\n",
            "  Batch 50/102: Loss=0.1724, Acc=94.12%\n"
          ]
        },
        {
          "output_type": "stream",
          "name": "stderr",
          "text": [
            "Training:  59%|█████▉    | 60/102 [00:53<00:36,  1.14it/s, Loss=0.1850, Acc=93.33%]"
          ]
        },
        {
          "output_type": "stream",
          "name": "stdout",
          "text": [
            "\n",
            "  Batch 60/102: Loss=0.1850, Acc=93.33%\n"
          ]
        },
        {
          "output_type": "stream",
          "name": "stderr",
          "text": [
            "Training:  69%|██████▊   | 70/102 [01:03<00:29,  1.09it/s, Loss=0.1839, Acc=93.30%]"
          ]
        },
        {
          "output_type": "stream",
          "name": "stdout",
          "text": [
            "\n",
            "  Batch 70/102: Loss=0.1839, Acc=93.30%\n"
          ]
        },
        {
          "output_type": "stream",
          "name": "stderr",
          "text": [
            "Training:  78%|███████▊  | 80/102 [01:11<00:19,  1.12it/s, Loss=0.1799, Acc=93.28%]"
          ]
        },
        {
          "output_type": "stream",
          "name": "stdout",
          "text": [
            "\n",
            "  Batch 80/102: Loss=0.1799, Acc=93.28%\n"
          ]
        },
        {
          "output_type": "stream",
          "name": "stderr",
          "text": [
            "Training:  88%|████████▊ | 90/102 [01:21<00:10,  1.14it/s, Loss=0.1797, Acc=93.47%]"
          ]
        },
        {
          "output_type": "stream",
          "name": "stdout",
          "text": [
            "\n",
            "  Batch 90/102: Loss=0.1797, Acc=93.47%\n"
          ]
        },
        {
          "output_type": "stream",
          "name": "stderr",
          "text": [
            "Training:  98%|█████████▊| 100/102 [01:30<00:01,  1.13it/s, Loss=0.1891, Acc=93.00%]"
          ]
        },
        {
          "output_type": "stream",
          "name": "stdout",
          "text": [
            "\n",
            "  Batch 100/102: Loss=0.1891, Acc=93.00%\n"
          ]
        },
        {
          "output_type": "stream",
          "name": "stderr",
          "text": [
            "Training: 100%|██████████| 102/102 [01:31<00:00,  1.12it/s, Loss=0.1891, Acc=93.02%]\n"
          ]
        },
        {
          "output_type": "stream",
          "name": "stdout",
          "text": [
            "\n",
            "Validating...\n",
            "New best model saved!\n",
            "\n",
            " EPOCH 14 SUMMARY:\n",
            "   Train Loss: 0.1891 | Train Acc: 93.02%\n",
            "   Val Loss: 0.3922   | Val Acc: 87.90%\n",
            "   Time: 102.5s\n",
            "   Best Val Acc: 87.90%\n",
            "   ETA: 10.4 minutes remaining\n",
            "\n",
            "============================================================\n",
            "EPOCH 15/20\n",
            "============================================================\n"
          ]
        },
        {
          "output_type": "stream",
          "name": "stderr",
          "text": [
            "Training:  10%|▉         | 10/102 [00:08<01:20,  1.15it/s, Loss=0.2181, Acc=91.88%]"
          ]
        },
        {
          "output_type": "stream",
          "name": "stdout",
          "text": [
            "\n",
            "  Batch 10/102: Loss=0.2181, Acc=91.88%\n"
          ]
        },
        {
          "output_type": "stream",
          "name": "stderr",
          "text": [
            "Training:  20%|█▉        | 20/102 [00:18<01:12,  1.13it/s, Loss=0.2018, Acc=93.44%]"
          ]
        },
        {
          "output_type": "stream",
          "name": "stdout",
          "text": [
            "\n",
            "  Batch 20/102: Loss=0.2018, Acc=93.44%\n"
          ]
        },
        {
          "output_type": "stream",
          "name": "stderr",
          "text": [
            "Training:  29%|██▉       | 30/102 [00:27<01:06,  1.09it/s, Loss=0.2283, Acc=91.88%]"
          ]
        },
        {
          "output_type": "stream",
          "name": "stdout",
          "text": [
            "\n",
            "  Batch 30/102: Loss=0.2283, Acc=91.88%\n"
          ]
        },
        {
          "output_type": "stream",
          "name": "stderr",
          "text": [
            "Training:  39%|███▉      | 40/102 [00:35<00:54,  1.14it/s, Loss=0.2053, Acc=92.50%]"
          ]
        },
        {
          "output_type": "stream",
          "name": "stdout",
          "text": [
            "\n",
            "  Batch 40/102: Loss=0.2053, Acc=92.50%\n"
          ]
        },
        {
          "output_type": "stream",
          "name": "stderr",
          "text": [
            "Training:  49%|████▉     | 50/102 [00:44<00:45,  1.14it/s, Loss=0.2085, Acc=92.75%]"
          ]
        },
        {
          "output_type": "stream",
          "name": "stdout",
          "text": [
            "\n",
            "  Batch 50/102: Loss=0.2085, Acc=92.75%\n"
          ]
        },
        {
          "output_type": "stream",
          "name": "stderr",
          "text": [
            "Training:  59%|█████▉    | 60/102 [00:54<00:37,  1.13it/s, Loss=0.2030, Acc=93.02%]"
          ]
        },
        {
          "output_type": "stream",
          "name": "stdout",
          "text": [
            "\n",
            "  Batch 60/102: Loss=0.2030, Acc=93.02%\n"
          ]
        },
        {
          "output_type": "stream",
          "name": "stderr",
          "text": [
            "Training:  69%|██████▊   | 70/102 [01:03<00:30,  1.06it/s, Loss=0.2117, Acc=93.04%]"
          ]
        },
        {
          "output_type": "stream",
          "name": "stdout",
          "text": [
            "\n",
            "  Batch 70/102: Loss=0.2117, Acc=93.04%\n"
          ]
        },
        {
          "output_type": "stream",
          "name": "stderr",
          "text": [
            "Training:  78%|███████▊  | 80/102 [01:11<00:19,  1.16it/s, Loss=0.2065, Acc=92.89%]"
          ]
        },
        {
          "output_type": "stream",
          "name": "stdout",
          "text": [
            "\n",
            "  Batch 80/102: Loss=0.2065, Acc=92.89%\n"
          ]
        },
        {
          "output_type": "stream",
          "name": "stderr",
          "text": [
            "Training:  88%|████████▊ | 90/102 [01:20<00:10,  1.15it/s, Loss=0.2056, Acc=92.85%]"
          ]
        },
        {
          "output_type": "stream",
          "name": "stdout",
          "text": [
            "\n",
            "  Batch 90/102: Loss=0.2056, Acc=92.85%\n"
          ]
        },
        {
          "output_type": "stream",
          "name": "stderr",
          "text": [
            "Training:  98%|█████████▊| 100/102 [01:30<00:01,  1.12it/s, Loss=0.2073, Acc=92.81%]"
          ]
        },
        {
          "output_type": "stream",
          "name": "stdout",
          "text": [
            "\n",
            "  Batch 100/102: Loss=0.2073, Acc=92.81%\n"
          ]
        },
        {
          "output_type": "stream",
          "name": "stderr",
          "text": [
            "Training: 100%|██████████| 102/102 [01:31<00:00,  1.12it/s, Loss=0.2064, Acc=92.77%]\n"
          ]
        },
        {
          "output_type": "stream",
          "name": "stdout",
          "text": [
            "\n",
            "Validating...\n",
            "\n",
            " EPOCH 15 SUMMARY:\n",
            "   Train Loss: 0.2064 | Train Acc: 92.77%\n",
            "   Val Loss: 0.3898   | Val Acc: 86.46%\n",
            "   Time: 102.3s\n",
            "   Best Val Acc: 87.90%\n",
            "   ETA: 8.7 minutes remaining\n",
            "\n",
            "============================================================\n",
            "EPOCH 16/20\n",
            "============================================================\n"
          ]
        },
        {
          "output_type": "stream",
          "name": "stderr",
          "text": [
            "Training:  10%|▉         | 10/102 [00:09<01:29,  1.02it/s, Loss=0.1335, Acc=96.25%]"
          ]
        },
        {
          "output_type": "stream",
          "name": "stdout",
          "text": [
            "\n",
            "  Batch 10/102: Loss=0.1335, Acc=96.25%\n"
          ]
        },
        {
          "output_type": "stream",
          "name": "stderr",
          "text": [
            "Training:  20%|█▉        | 20/102 [00:17<01:11,  1.15it/s, Loss=0.1581, Acc=94.69%]"
          ]
        },
        {
          "output_type": "stream",
          "name": "stdout",
          "text": [
            "\n",
            "  Batch 20/102: Loss=0.1581, Acc=94.69%\n"
          ]
        },
        {
          "output_type": "stream",
          "name": "stderr",
          "text": [
            "Training:  29%|██▉       | 30/102 [00:26<01:03,  1.14it/s, Loss=0.1503, Acc=94.79%]"
          ]
        },
        {
          "output_type": "stream",
          "name": "stdout",
          "text": [
            "\n",
            "  Batch 30/102: Loss=0.1503, Acc=94.79%\n"
          ]
        },
        {
          "output_type": "stream",
          "name": "stderr",
          "text": [
            "Training:  39%|███▉      | 40/102 [00:35<00:55,  1.11it/s, Loss=0.1568, Acc=94.53%]"
          ]
        },
        {
          "output_type": "stream",
          "name": "stdout",
          "text": [
            "\n",
            "  Batch 40/102: Loss=0.1568, Acc=94.53%\n"
          ]
        },
        {
          "output_type": "stream",
          "name": "stderr",
          "text": [
            "Training:  49%|████▉     | 50/102 [00:44<00:49,  1.06it/s, Loss=0.1645, Acc=93.75%]"
          ]
        },
        {
          "output_type": "stream",
          "name": "stdout",
          "text": [
            "\n",
            "  Batch 50/102: Loss=0.1645, Acc=93.75%\n"
          ]
        },
        {
          "output_type": "stream",
          "name": "stderr",
          "text": [
            "Training:  59%|█████▉    | 60/102 [00:53<00:36,  1.14it/s, Loss=0.1660, Acc=93.54%]"
          ]
        },
        {
          "output_type": "stream",
          "name": "stdout",
          "text": [
            "\n",
            "  Batch 60/102: Loss=0.1660, Acc=93.54%\n"
          ]
        },
        {
          "output_type": "stream",
          "name": "stderr",
          "text": [
            "Training:  69%|██████▊   | 70/102 [01:02<00:28,  1.13it/s, Loss=0.1724, Acc=93.21%]"
          ]
        },
        {
          "output_type": "stream",
          "name": "stdout",
          "text": [
            "\n",
            "  Batch 70/102: Loss=0.1724, Acc=93.21%\n"
          ]
        },
        {
          "output_type": "stream",
          "name": "stderr",
          "text": [
            "Training:  78%|███████▊  | 80/102 [01:12<00:20,  1.08it/s, Loss=0.1697, Acc=93.36%]"
          ]
        },
        {
          "output_type": "stream",
          "name": "stdout",
          "text": [
            "\n",
            "  Batch 80/102: Loss=0.1697, Acc=93.36%\n"
          ]
        },
        {
          "output_type": "stream",
          "name": "stderr",
          "text": [
            "Training:  88%|████████▊ | 90/102 [01:20<00:11,  1.06it/s, Loss=0.1698, Acc=93.19%]"
          ]
        },
        {
          "output_type": "stream",
          "name": "stdout",
          "text": [
            "\n",
            "  Batch 90/102: Loss=0.1698, Acc=93.19%\n"
          ]
        },
        {
          "output_type": "stream",
          "name": "stderr",
          "text": [
            "Training:  98%|█████████▊| 100/102 [01:29<00:01,  1.14it/s, Loss=0.1702, Acc=93.06%]"
          ]
        },
        {
          "output_type": "stream",
          "name": "stdout",
          "text": [
            "\n",
            "  Batch 100/102: Loss=0.1702, Acc=93.06%\n"
          ]
        },
        {
          "output_type": "stream",
          "name": "stderr",
          "text": [
            "Training: 100%|██████████| 102/102 [01:30<00:00,  1.12it/s, Loss=0.1857, Acc=93.08%]\n"
          ]
        },
        {
          "output_type": "stream",
          "name": "stdout",
          "text": [
            "\n",
            "Validating...\n",
            "\n",
            " EPOCH 16 SUMMARY:\n",
            "   Train Loss: 0.1857 | Train Acc: 93.08%\n",
            "   Val Loss: 0.3972   | Val Acc: 86.74%\n",
            "   Time: 102.2s\n",
            "   Best Val Acc: 87.90%\n",
            "   ETA: 6.9 minutes remaining\n",
            "\n",
            "============================================================\n",
            "EPOCH 17/20\n",
            "============================================================\n"
          ]
        },
        {
          "output_type": "stream",
          "name": "stderr",
          "text": [
            "Training:  10%|▉         | 10/102 [00:09<01:21,  1.13it/s, Loss=0.1493, Acc=95.62%]"
          ]
        },
        {
          "output_type": "stream",
          "name": "stdout",
          "text": [
            "\n",
            "  Batch 10/102: Loss=0.1493, Acc=95.62%\n"
          ]
        },
        {
          "output_type": "stream",
          "name": "stderr",
          "text": [
            "Training:  20%|█▉        | 20/102 [00:18<01:15,  1.08it/s, Loss=0.1684, Acc=94.06%]"
          ]
        },
        {
          "output_type": "stream",
          "name": "stdout",
          "text": [
            "\n",
            "  Batch 20/102: Loss=0.1684, Acc=94.06%\n"
          ]
        },
        {
          "output_type": "stream",
          "name": "stderr",
          "text": [
            "Training:  29%|██▉       | 30/102 [00:26<01:02,  1.15it/s, Loss=0.1681, Acc=94.17%]"
          ]
        },
        {
          "output_type": "stream",
          "name": "stdout",
          "text": [
            "\n",
            "  Batch 30/102: Loss=0.1681, Acc=94.17%\n"
          ]
        },
        {
          "output_type": "stream",
          "name": "stderr",
          "text": [
            "Training:  39%|███▉      | 40/102 [00:36<00:53,  1.15it/s, Loss=0.1654, Acc=93.91%]"
          ]
        },
        {
          "output_type": "stream",
          "name": "stdout",
          "text": [
            "\n",
            "  Batch 40/102: Loss=0.1654, Acc=93.91%\n"
          ]
        },
        {
          "output_type": "stream",
          "name": "stderr",
          "text": [
            "Training:  49%|████▉     | 50/102 [00:45<00:46,  1.13it/s, Loss=0.1729, Acc=93.25%]"
          ]
        },
        {
          "output_type": "stream",
          "name": "stdout",
          "text": [
            "\n",
            "  Batch 50/102: Loss=0.1729, Acc=93.25%\n"
          ]
        },
        {
          "output_type": "stream",
          "name": "stderr",
          "text": [
            "Training:  59%|█████▉    | 60/102 [00:54<00:39,  1.05it/s, Loss=0.1714, Acc=93.02%]"
          ]
        },
        {
          "output_type": "stream",
          "name": "stdout",
          "text": [
            "\n",
            "  Batch 60/102: Loss=0.1714, Acc=93.02%\n"
          ]
        },
        {
          "output_type": "stream",
          "name": "stderr",
          "text": [
            "Training:  69%|██████▊   | 70/102 [01:03<00:27,  1.15it/s, Loss=0.1851, Acc=92.32%]"
          ]
        },
        {
          "output_type": "stream",
          "name": "stdout",
          "text": [
            "\n",
            "  Batch 70/102: Loss=0.1851, Acc=92.32%\n"
          ]
        },
        {
          "output_type": "stream",
          "name": "stderr",
          "text": [
            "Training:  78%|███████▊  | 80/102 [01:12<00:19,  1.14it/s, Loss=0.1806, Acc=92.58%]"
          ]
        },
        {
          "output_type": "stream",
          "name": "stdout",
          "text": [
            "\n",
            "  Batch 80/102: Loss=0.1806, Acc=92.58%\n"
          ]
        },
        {
          "output_type": "stream",
          "name": "stderr",
          "text": [
            "Training:  88%|████████▊ | 90/102 [01:21<00:10,  1.11it/s, Loss=0.1814, Acc=92.64%]"
          ]
        },
        {
          "output_type": "stream",
          "name": "stdout",
          "text": [
            "\n",
            "  Batch 90/102: Loss=0.1814, Acc=92.64%\n"
          ]
        },
        {
          "output_type": "stream",
          "name": "stderr",
          "text": [
            "Training:  98%|█████████▊| 100/102 [01:30<00:01,  1.03it/s, Loss=0.1798, Acc=92.62%]"
          ]
        },
        {
          "output_type": "stream",
          "name": "stdout",
          "text": [
            "\n",
            "  Batch 100/102: Loss=0.1798, Acc=92.62%\n"
          ]
        },
        {
          "output_type": "stream",
          "name": "stderr",
          "text": [
            "Training: 100%|██████████| 102/102 [01:31<00:00,  1.11it/s, Loss=0.1820, Acc=92.58%]\n"
          ]
        },
        {
          "output_type": "stream",
          "name": "stdout",
          "text": [
            "\n",
            "Validating...\n",
            "\n",
            " EPOCH 17 SUMMARY:\n",
            "   Train Loss: 0.1820 | Train Acc: 92.58%\n",
            "   Val Loss: 0.4040   | Val Acc: 86.74%\n",
            "   Time: 103.0s\n",
            "   Best Val Acc: 87.90%\n",
            "   ETA: 5.2 minutes remaining\n",
            "\n",
            "============================================================\n",
            "EPOCH 18/20\n",
            "============================================================\n"
          ]
        },
        {
          "output_type": "stream",
          "name": "stderr",
          "text": [
            "Training:  10%|▉         | 10/102 [00:08<01:19,  1.15it/s, Loss=0.2094, Acc=91.25%]"
          ]
        },
        {
          "output_type": "stream",
          "name": "stdout",
          "text": [
            "\n",
            "  Batch 10/102: Loss=0.2094, Acc=91.25%\n"
          ]
        },
        {
          "output_type": "stream",
          "name": "stderr",
          "text": [
            "Training:  20%|█▉        | 20/102 [00:17<01:12,  1.13it/s, Loss=0.1885, Acc=91.88%]"
          ]
        },
        {
          "output_type": "stream",
          "name": "stdout",
          "text": [
            "\n",
            "  Batch 20/102: Loss=0.1885, Acc=91.88%\n"
          ]
        },
        {
          "output_type": "stream",
          "name": "stderr",
          "text": [
            "Training:  29%|██▉       | 30/102 [00:27<01:04,  1.11it/s, Loss=0.1883, Acc=92.08%]"
          ]
        },
        {
          "output_type": "stream",
          "name": "stdout",
          "text": [
            "\n",
            "  Batch 30/102: Loss=0.1883, Acc=92.08%\n"
          ]
        },
        {
          "output_type": "stream",
          "name": "stderr",
          "text": [
            "Training:  39%|███▉      | 40/102 [00:36<01:01,  1.01it/s, Loss=0.1646, Acc=93.12%]"
          ]
        },
        {
          "output_type": "stream",
          "name": "stdout",
          "text": [
            "\n",
            "  Batch 40/102: Loss=0.1646, Acc=93.12%\n"
          ]
        },
        {
          "output_type": "stream",
          "name": "stderr",
          "text": [
            "Training:  49%|████▉     | 50/102 [00:45<00:45,  1.15it/s, Loss=0.1750, Acc=93.00%]"
          ]
        },
        {
          "output_type": "stream",
          "name": "stdout",
          "text": [
            "\n",
            "  Batch 50/102: Loss=0.1750, Acc=93.00%\n"
          ]
        },
        {
          "output_type": "stream",
          "name": "stderr",
          "text": [
            "Training:  59%|█████▉    | 60/102 [00:54<00:36,  1.14it/s, Loss=0.1742, Acc=92.81%]"
          ]
        },
        {
          "output_type": "stream",
          "name": "stdout",
          "text": [
            "\n",
            "  Batch 60/102: Loss=0.1742, Acc=92.81%\n"
          ]
        },
        {
          "output_type": "stream",
          "name": "stderr",
          "text": [
            "Training:  69%|██████▊   | 70/102 [01:03<00:29,  1.10it/s, Loss=0.1736, Acc=92.59%]"
          ]
        },
        {
          "output_type": "stream",
          "name": "stdout",
          "text": [
            "\n",
            "  Batch 70/102: Loss=0.1736, Acc=92.59%\n"
          ]
        },
        {
          "output_type": "stream",
          "name": "stderr",
          "text": [
            "Training:  78%|███████▊  | 80/102 [01:12<00:21,  1.00it/s, Loss=0.1682, Acc=92.81%]"
          ]
        },
        {
          "output_type": "stream",
          "name": "stdout",
          "text": [
            "\n",
            "  Batch 80/102: Loss=0.1682, Acc=92.81%\n"
          ]
        },
        {
          "output_type": "stream",
          "name": "stderr",
          "text": [
            "Training:  88%|████████▊ | 90/102 [01:21<00:10,  1.14it/s, Loss=0.1710, Acc=92.92%]"
          ]
        },
        {
          "output_type": "stream",
          "name": "stdout",
          "text": [
            "\n",
            "  Batch 90/102: Loss=0.1710, Acc=92.92%\n"
          ]
        },
        {
          "output_type": "stream",
          "name": "stderr",
          "text": [
            "Training:  98%|█████████▊| 100/102 [01:30<00:01,  1.13it/s, Loss=0.1717, Acc=93.00%]"
          ]
        },
        {
          "output_type": "stream",
          "name": "stdout",
          "text": [
            "\n",
            "  Batch 100/102: Loss=0.1717, Acc=93.00%\n"
          ]
        },
        {
          "output_type": "stream",
          "name": "stderr",
          "text": [
            "Training: 100%|██████████| 102/102 [01:31<00:00,  1.12it/s, Loss=0.1698, Acc=93.08%]\n"
          ]
        },
        {
          "output_type": "stream",
          "name": "stdout",
          "text": [
            "\n",
            "Validating...\n",
            "\n",
            " EPOCH 18 SUMMARY:\n",
            "   Train Loss: 0.1698 | Train Acc: 93.08%\n",
            "   Val Loss: 0.3996   | Val Acc: 87.90%\n",
            "   Time: 102.9s\n",
            "   Best Val Acc: 87.90%\n",
            "   ETA: 3.5 minutes remaining\n",
            "\n",
            "============================================================\n",
            "EPOCH 19/20\n",
            "============================================================\n"
          ]
        },
        {
          "output_type": "stream",
          "name": "stderr",
          "text": [
            "Training:  10%|▉         | 10/102 [00:09<01:23,  1.10it/s, Loss=0.1521, Acc=95.62%]"
          ]
        },
        {
          "output_type": "stream",
          "name": "stdout",
          "text": [
            "\n",
            "  Batch 10/102: Loss=0.1521, Acc=95.62%\n"
          ]
        },
        {
          "output_type": "stream",
          "name": "stderr",
          "text": [
            "Training:  20%|█▉        | 20/102 [00:18<01:17,  1.06it/s, Loss=0.1125, Acc=96.56%]"
          ]
        },
        {
          "output_type": "stream",
          "name": "stdout",
          "text": [
            "\n",
            "  Batch 20/102: Loss=0.1125, Acc=96.56%\n"
          ]
        },
        {
          "output_type": "stream",
          "name": "stderr",
          "text": [
            "Training:  29%|██▉       | 30/102 [00:26<01:02,  1.15it/s, Loss=0.1277, Acc=95.62%]"
          ]
        },
        {
          "output_type": "stream",
          "name": "stdout",
          "text": [
            "\n",
            "  Batch 30/102: Loss=0.1277, Acc=95.62%\n"
          ]
        },
        {
          "output_type": "stream",
          "name": "stderr",
          "text": [
            "Training:  39%|███▉      | 40/102 [00:36<00:54,  1.13it/s, Loss=0.1307, Acc=95.47%]"
          ]
        },
        {
          "output_type": "stream",
          "name": "stdout",
          "text": [
            "\n",
            "  Batch 40/102: Loss=0.1307, Acc=95.47%\n"
          ]
        },
        {
          "output_type": "stream",
          "name": "stderr",
          "text": [
            "Training:  49%|████▉     | 50/102 [00:45<00:48,  1.08it/s, Loss=0.1463, Acc=94.62%]"
          ]
        },
        {
          "output_type": "stream",
          "name": "stdout",
          "text": [
            "\n",
            "  Batch 50/102: Loss=0.1463, Acc=94.62%\n"
          ]
        },
        {
          "output_type": "stream",
          "name": "stderr",
          "text": [
            "Training:  59%|█████▉    | 60/102 [00:54<00:39,  1.06it/s, Loss=0.1498, Acc=94.79%]"
          ]
        },
        {
          "output_type": "stream",
          "name": "stdout",
          "text": [
            "\n",
            "  Batch 60/102: Loss=0.1498, Acc=94.79%\n"
          ]
        },
        {
          "output_type": "stream",
          "name": "stderr",
          "text": [
            "Training:  69%|██████▊   | 70/102 [01:03<00:27,  1.14it/s, Loss=0.1536, Acc=94.46%]"
          ]
        },
        {
          "output_type": "stream",
          "name": "stdout",
          "text": [
            "\n",
            "  Batch 70/102: Loss=0.1536, Acc=94.46%\n"
          ]
        },
        {
          "output_type": "stream",
          "name": "stderr",
          "text": [
            "Training:  78%|███████▊  | 80/102 [01:12<00:19,  1.12it/s, Loss=0.1537, Acc=94.53%]"
          ]
        },
        {
          "output_type": "stream",
          "name": "stdout",
          "text": [
            "\n",
            "  Batch 80/102: Loss=0.1537, Acc=94.53%\n"
          ]
        },
        {
          "output_type": "stream",
          "name": "stderr",
          "text": [
            "Training:  88%|████████▊ | 90/102 [01:21<00:11,  1.07it/s, Loss=0.1530, Acc=94.51%]"
          ]
        },
        {
          "output_type": "stream",
          "name": "stdout",
          "text": [
            "\n",
            "  Batch 90/102: Loss=0.1530, Acc=94.51%\n"
          ]
        },
        {
          "output_type": "stream",
          "name": "stderr",
          "text": [
            "Training:  98%|█████████▊| 100/102 [01:30<00:01,  1.13it/s, Loss=0.1509, Acc=94.56%]"
          ]
        },
        {
          "output_type": "stream",
          "name": "stdout",
          "text": [
            "\n",
            "  Batch 100/102: Loss=0.1509, Acc=94.56%\n"
          ]
        },
        {
          "output_type": "stream",
          "name": "stderr",
          "text": [
            "Training: 100%|██████████| 102/102 [01:31<00:00,  1.11it/s, Loss=0.1489, Acc=94.56%]\n"
          ]
        },
        {
          "output_type": "stream",
          "name": "stdout",
          "text": [
            "\n",
            "Validating...\n",
            "\n",
            " EPOCH 19 SUMMARY:\n",
            "   Train Loss: 0.1489 | Train Acc: 94.56%\n",
            "   Val Loss: 0.4220   | Val Acc: 87.03%\n",
            "   Time: 102.3s\n",
            "   Best Val Acc: 87.90%\n",
            "   ETA: 1.7 minutes remaining\n",
            "\n",
            "============================================================\n",
            "EPOCH 20/20\n",
            "============================================================\n"
          ]
        },
        {
          "output_type": "stream",
          "name": "stderr",
          "text": [
            "Training:  10%|▉         | 10/102 [00:09<01:20,  1.14it/s, Loss=0.1538, Acc=93.12%]"
          ]
        },
        {
          "output_type": "stream",
          "name": "stdout",
          "text": [
            "\n",
            "  Batch 10/102: Loss=0.1538, Acc=93.12%\n"
          ]
        },
        {
          "output_type": "stream",
          "name": "stderr",
          "text": [
            "Training:  20%|█▉        | 20/102 [00:18<01:13,  1.12it/s, Loss=0.1575, Acc=93.44%]"
          ]
        },
        {
          "output_type": "stream",
          "name": "stdout",
          "text": [
            "\n",
            "  Batch 20/102: Loss=0.1575, Acc=93.44%\n"
          ]
        },
        {
          "output_type": "stream",
          "name": "stderr",
          "text": [
            "Training:  29%|██▉       | 30/102 [00:27<01:08,  1.05it/s, Loss=0.1475, Acc=94.17%]"
          ]
        },
        {
          "output_type": "stream",
          "name": "stdout",
          "text": [
            "\n",
            "  Batch 30/102: Loss=0.1475, Acc=94.17%\n"
          ]
        },
        {
          "output_type": "stream",
          "name": "stderr",
          "text": [
            "Training:  39%|███▉      | 40/102 [00:36<00:54,  1.13it/s, Loss=0.1446, Acc=94.38%]"
          ]
        },
        {
          "output_type": "stream",
          "name": "stdout",
          "text": [
            "\n",
            "  Batch 40/102: Loss=0.1446, Acc=94.38%\n"
          ]
        },
        {
          "output_type": "stream",
          "name": "stderr",
          "text": [
            "Training:  49%|████▉     | 50/102 [00:45<00:45,  1.13it/s, Loss=0.1513, Acc=94.00%]"
          ]
        },
        {
          "output_type": "stream",
          "name": "stdout",
          "text": [
            "\n",
            "  Batch 50/102: Loss=0.1513, Acc=94.00%\n"
          ]
        },
        {
          "output_type": "stream",
          "name": "stderr",
          "text": [
            "Training:  59%|█████▉    | 60/102 [00:54<00:37,  1.11it/s, Loss=0.1494, Acc=94.27%]"
          ]
        },
        {
          "output_type": "stream",
          "name": "stdout",
          "text": [
            "\n",
            "  Batch 60/102: Loss=0.1494, Acc=94.27%\n"
          ]
        },
        {
          "output_type": "stream",
          "name": "stderr",
          "text": [
            "Training:  69%|██████▊   | 70/102 [01:03<00:30,  1.06it/s, Loss=0.1547, Acc=93.93%]"
          ]
        },
        {
          "output_type": "stream",
          "name": "stdout",
          "text": [
            "\n",
            "  Batch 70/102: Loss=0.1547, Acc=93.93%\n"
          ]
        },
        {
          "output_type": "stream",
          "name": "stderr",
          "text": [
            "Training:  78%|███████▊  | 80/102 [01:12<00:19,  1.14it/s, Loss=0.1537, Acc=94.14%]"
          ]
        },
        {
          "output_type": "stream",
          "name": "stdout",
          "text": [
            "\n",
            "  Batch 80/102: Loss=0.1537, Acc=94.14%\n"
          ]
        },
        {
          "output_type": "stream",
          "name": "stderr",
          "text": [
            "Training:  88%|████████▊ | 90/102 [01:21<00:10,  1.14it/s, Loss=0.1504, Acc=94.31%]"
          ]
        },
        {
          "output_type": "stream",
          "name": "stdout",
          "text": [
            "\n",
            "  Batch 90/102: Loss=0.1504, Acc=94.31%\n"
          ]
        },
        {
          "output_type": "stream",
          "name": "stderr",
          "text": [
            "Training:  98%|█████████▊| 100/102 [01:30<00:01,  1.11it/s, Loss=0.1497, Acc=94.12%]"
          ]
        },
        {
          "output_type": "stream",
          "name": "stdout",
          "text": [
            "\n",
            "  Batch 100/102: Loss=0.1497, Acc=94.12%\n"
          ]
        },
        {
          "output_type": "stream",
          "name": "stderr",
          "text": [
            "Training: 100%|██████████| 102/102 [01:31<00:00,  1.11it/s, Loss=0.1479, Acc=94.13%]\n"
          ]
        },
        {
          "output_type": "stream",
          "name": "stdout",
          "text": [
            "\n",
            "Validating...\n",
            "New best model saved!\n",
            "\n",
            " EPOCH 20 SUMMARY:\n",
            "   Train Loss: 0.1479 | Train Acc: 94.13%\n",
            "   Val Loss: 0.4251   | Val Acc: 88.47%\n",
            "   Time: 103.3s\n",
            "   Best Val Acc: 88.47%\n",
            "\n",
            " Training completed in 34.7 minutes!\n",
            " Best validation accuracy: 88.47%\n"
          ]
        }
      ],
      "source": [
        "import time\n",
        "from tqdm import tqdm\n",
        "\n",
        "# Enhanced training function with progress tracking\n",
        "def train_epoch_with_progress(model, train_loader, criterion, optimizer, device):\n",
        "    model.train()\n",
        "    running_loss = 0.0\n",
        "    correct = 0\n",
        "    total = 0\n",
        "\n",
        "    # Progress bar for batches\n",
        "    pbar = tqdm(train_loader, desc=\"Training\")\n",
        "\n",
        "    for batch_idx, (images, labels) in enumerate(pbar):\n",
        "        images, labels = images.to(device), labels.to(device)\n",
        "\n",
        "        optimizer.zero_grad()\n",
        "        outputs = model(images)\n",
        "        loss = criterion(outputs, labels)\n",
        "        loss.backward()\n",
        "        optimizer.step()\n",
        "\n",
        "        running_loss += loss.item()\n",
        "        _, predicted = outputs.max(1)\n",
        "        total += labels.size(0)\n",
        "        correct += predicted.eq(labels).sum().item()\n",
        "\n",
        "        # Update progress bar every batch\n",
        "        current_acc = 100. * correct / total\n",
        "        current_loss = running_loss / (batch_idx + 1)\n",
        "        pbar.set_postfix({\n",
        "            'Loss': f'{current_loss:.4f}',\n",
        "            'Acc': f'{current_acc:.2f}%'\n",
        "        })\n",
        "\n",
        "        # Print detailed progress every 10 batches\n",
        "        if (batch_idx + 1) % 10 == 0:\n",
        "            print(f\"\\n  Batch {batch_idx+1}/{len(train_loader)}: Loss={current_loss:.4f}, Acc={current_acc:.2f}%\")\n",
        "\n",
        "    final_acc = 100. * correct / total\n",
        "    final_loss = running_loss / len(train_loader)\n",
        "    return final_loss, final_acc\n",
        "\n",
        "# Training loop with time tracking\n",
        "print(\"Starting Vision Transformer training with FULL progress tracking...\")\n",
        "\n",
        "num_epochs = 20  # Reduced for faster completion\n",
        "best_val_acc = 0.0\n",
        "train_losses, val_losses = [], []\n",
        "train_accs, val_accs = [], []\n",
        "\n",
        "start_time = time.time()\n",
        "\n",
        "for epoch in range(num_epochs):\n",
        "    epoch_start = time.time()\n",
        "\n",
        "    print(f\"\\n{'='*60}\")\n",
        "    print(f\"EPOCH {epoch+1}/{num_epochs}\")\n",
        "    print(f\"{'='*60}\")\n",
        "\n",
        "    # Training with progress\n",
        "    train_loss, train_acc = train_epoch_with_progress(model, train_loader, criterion, optimizer, device)\n",
        "\n",
        "    # Validation\n",
        "    print(\"\\nValidating...\")\n",
        "    val_loss, val_acc = validate_epoch(model, val_loader, criterion, device)\n",
        "\n",
        "    # Time tracking\n",
        "    epoch_time = time.time() - epoch_start\n",
        "\n",
        "    # Update scheduler\n",
        "    scheduler.step()\n",
        "\n",
        "    # Save best model\n",
        "    if val_acc > best_val_acc:\n",
        "        best_val_acc = val_acc\n",
        "        torch.save(model.state_dict(), 'best_vit_defect_model.pth')\n",
        "        print(\"New best model saved!\")\n",
        "\n",
        "    # Store metrics\n",
        "    train_losses.append(train_loss)\n",
        "    val_losses.append(val_loss)\n",
        "    train_accs.append(train_acc)\n",
        "    val_accs.append(val_acc)\n",
        "\n",
        "    # Detailed epoch summary\n",
        "    print(f\"\\n EPOCH {epoch+1} SUMMARY:\")\n",
        "    print(f\"   Train Loss: {train_loss:.4f} | Train Acc: {train_acc:.2f}%\")\n",
        "    print(f\"   Val Loss: {val_loss:.4f}   | Val Acc: {val_acc:.2f}%\")\n",
        "    print(f\"   Time: {epoch_time:.1f}s\")\n",
        "    print(f\"   Best Val Acc: {best_val_acc:.2f}%\")\n",
        "\n",
        "    # Estimated time remaining\n",
        "    elapsed = time.time() - start_time\n",
        "    avg_epoch_time = elapsed / (epoch + 1)\n",
        "    remaining_epochs = num_epochs - (epoch + 1)\n",
        "    eta = remaining_epochs * avg_epoch_time\n",
        "\n",
        "    if remaining_epochs > 0:\n",
        "        print(f\"   ETA: {eta/60:.1f} minutes remaining\")\n",
        "\n",
        "total_time = time.time() - start_time\n",
        "print(f\"\\n Training completed in {total_time/60:.1f} minutes!\")\n",
        "print(f\" Best validation accuracy: {best_val_acc:.2f}%\")\n"
      ]
    },
    {
      "cell_type": "code",
      "execution_count": 15,
      "metadata": {
        "id": "RpElpKVqL1Jc",
        "colab": {
          "base_uri": "https://localhost:8080/",
          "height": 437
        },
        "outputId": "4c6c854a-4a23-45c3-eac9-5ac6ef87eb37"
      },
      "outputs": [
        {
          "output_type": "stream",
          "name": "stdout",
          "text": [
            " Final Test Results:\n",
            "Test Accuracy: 87.32%\n",
            "Test Loss: 0.5699\n"
          ]
        },
        {
          "output_type": "display_data",
          "data": {
            "text/plain": [
              "<Figure size 1500x500 with 3 Axes>"
            ],
            "image/png": "[encoded data removed]"
          },
          "metadata": {}
        }
      ],
      "source": [
        "# Load best model and evaluate on test set\n",
        "model.load_state_dict(torch.load('best_vit_defect_model.pth'))\n",
        "test_loss, test_acc = validate_epoch(model, test_loader, criterion, device)\n",
        "\n",
        "print(f\" Final Test Results:\")\n",
        "print(f\"Test Accuracy: {test_acc:.2f}%\")\n",
        "print(f\"Test Loss: {test_loss:.4f}\")\n",
        "\n",
        "# Plot training curves\n",
        "import matplotlib.pyplot as plt\n",
        "\n",
        "plt.figure(figsize=(15, 5))\n",
        "\n",
        "plt.subplot(1, 3, 1)\n",
        "plt.plot(train_losses, label='Training Loss')\n",
        "plt.plot(val_losses, label='Validation Loss')\n",
        "plt.title('Training and Validation Loss')\n",
        "plt.xlabel('Epoch')\n",
        "plt.ylabel('Loss')\n",
        "plt.legend()\n",
        "\n",
        "plt.subplot(1, 3, 2)\n",
        "plt.plot(train_accs, label='Training Accuracy')\n",
        "plt.plot(val_accs, label='Validation Accuracy')\n",
        "plt.title('Training and Validation Accuracy')\n",
        "plt.xlabel('Epoch')\n",
        "plt.ylabel('Accuracy (%)')\n",
        "plt.legend()\n",
        "\n",
        "plt.subplot(1, 3, 3)\n",
        "# Class distribution\n",
        "defect_names = list(defect_classes.values())\n",
        "counts = [label_counts[name] for name in defect_names]\n",
        "plt.bar(range(len(defect_names)), counts)\n",
        "plt.title('Defect Class Distribution')\n",
        "plt.xlabel('Defect Type')\n",
        "plt.ylabel('Number of Images')\n",
        "plt.xticks(range(len(defect_names)), defect_names, rotation=45)\n",
        "\n",
        "plt.tight_layout()\n",
        "plt.show()\n"
      ]
    }
  ],
  "metadata": {
    "colab": {
      "provenance": [],
      "gpuType": "T4"
    },
    "kernelspec": {
      "display_name": "Python 3",
      "name": "python3"
    },
    "language_info": {
      "name": "python"
    },
    "widgets": {
      "application/vnd.jupyter.widget-state+json": {
        "5950b04ff3544aa58cf73d6a4a0eae16": {
          "model_module": "@jupyter-widgets/controls",
          "model_name": "HBoxModel",
          "model_module_version": "1.5.0",
          "state": {
            "_dom_classes": [],
            "_model_module": "@jupyter-widgets/controls",
            "_model_module_version": "1.5.0",
            "_model_name": "HBoxModel",
            "_view_count": null,
            "_view_module": "@jupyter-widgets/controls",
            "_view_module_version": "1.5.0",
            "_view_name": "HBoxView",
            "box_style": "",
            "children": [
              "IPY_MODEL_7169187bce5c4864a24389a22b7b19b7",
              "IPY_MODEL_a88b39ea99714ebc947d8fe8ff291fad",
              "IPY_MODEL_42126526590946898b2b660f9fd5704b"
            ],
            "layout": "IPY_MODEL_0a3b80bb510e43ab9575c989170f5305"
          }
        },
        "7169187bce5c4864a24389a22b7b19b7": {
          "model_module": "@jupyter-widgets/controls",
          "model_name": "HTMLModel",
          "model_module_version": "1.5.0",
          "state": {
            "_dom_classes": [],
            "_model_module": "@jupyter-widgets/controls",
            "_model_module_version": "1.5.0",
            "_model_name": "HTMLModel",
            "_view_count": null,
            "_view_module": "@jupyter-widgets/controls",
            "_view_module_version": "1.5.0",
            "_view_name": "HTMLView",
            "description": "",
            "description_tooltip": null,
            "layout": "IPY_MODEL_5587692920354e4699041404b6710cad",
            "placeholder": "​",
            "style": "IPY_MODEL_a63a43a2771a4f1f8ab163fb2c089c27",
            "value": "model.safetensors: 100%"
          }
        },
        "a88b39ea99714ebc947d8fe8ff291fad": {
          "model_module": "@jupyter-widgets/controls",
          "model_name": "FloatProgressModel",
          "model_module_version": "1.5.0",
          "state": {
            "_dom_classes": [],
            "_model_module": "@jupyter-widgets/controls",
            "_model_module_version": "1.5.0",
            "_model_name": "FloatProgressModel",
            "_view_count": null,
            "_view_module": "@jupyter-widgets/controls",
            "_view_module_version": "1.5.0",
            "_view_name": "ProgressView",
            "bar_style": "success",
            "description": "",
            "description_tooltip": null,
            "layout": "IPY_MODEL_d3a57d6214e54904b9785959de1c493b",
            "max": 346284714,
            "min": 0,
            "orientation": "horizontal",
            "style": "IPY_MODEL_8e96998335cc4098abbb06b30e417abc",
            "value": 346284714
          }
        },
        "42126526590946898b2b660f9fd5704b": {
          "model_module": "@jupyter-widgets/controls",
          "model_name": "HTMLModel",
          "model_module_version": "1.5.0",
          "state": {
            "_dom_classes": [],
            "_model_module": "@jupyter-widgets/controls",
            "_model_module_version": "1.5.0",
            "_model_name": "HTMLModel",
            "_view_count": null,
            "_view_module": "@jupyter-widgets/controls",
            "_view_module_version": "1.5.0",
            "_view_name": "HTMLView",
            "description": "",
            "description_tooltip": null,
            "layout": "IPY_MODEL_46523a942ed34819aaa907cdb773756c",
            "placeholder": "​",
            "style": "IPY_MODEL_5efd25ec560049f4958c435628252925",
            "value": " 346M/346M [00:03&lt;00:00, 92.3MB/s]"
          }
        },
        "0a3b80bb510e43ab9575c989170f5305": {
          "model_module": "@jupyter-widgets/base",
          "model_name": "LayoutModel",
          "model_module_version": "1.2.0",
          "state": {
            "_model_module": "@jupyter-widgets/base",
            "_model_module_version": "1.2.0",
            "_model_name": "LayoutModel",
            "_view_count": null,
            "_view_module": "@jupyter-widgets/base",
            "_view_module_version": "1.2.0",
            "_view_name": "LayoutView",
            "align_content": null,
            "align_items": null,
            "align_self": null,
            "border": null,
            "bottom": null,
            "display": null,
            "flex": null,
            "flex_flow": null,
            "grid_area": null,
            "grid_auto_columns": null,
            "grid_auto_flow": null,
            "grid_auto_rows": null,
            "grid_column": null,
            "grid_gap": null,
            "grid_row": null,
            "grid_template_areas": null,
            "grid_template_columns": null,
            "grid_template_rows": null,
            "height": null,
            "justify_content": null,
            "justify_items": null,
            "left": null,
            "margin": null,
            "max_height": null,
            "max_width": null,
            "min_height": null,
            "min_width": null,
            "object_fit": null,
            "object_position": null,
            "order": null,
            "overflow": null,
            "overflow_x": null,
            "overflow_y": null,
            "padding": null,
            "right": null,
            "top": null,
            "visibility": null,
            "width": null
          }
        },
        "5587692920354e4699041404b6710cad": {
          "model_module": "@jupyter-widgets/base",
          "model_name": "LayoutModel",
          "model_module_version": "1.2.0",
          "state": {
            "_model_module": "@jupyter-widgets/base",
            "_model_module_version": "1.2.0",
            "_model_name": "LayoutModel",
            "_view_count": null,
            "_view_module": "@jupyter-widgets/base",
            "_view_module_version": "1.2.0",
            "_view_name": "LayoutView",
            "align_content": null,
            "align_items": null,
            "align_self": null,
            "border": null,
            "bottom": null,
            "display": null,
            "flex": null,
            "flex_flow": null,
            "grid_area": null,
            "grid_auto_columns": null,
            "grid_auto_flow": null,
            "grid_auto_rows": null,
            "grid_column": null,
            "grid_gap": null,
            "grid_row": null,
            "grid_template_areas": null,
            "grid_template_columns": null,
            "grid_template_rows": null,
            "height": null,
            "justify_content": null,
            "justify_items": null,
            "left": null,
            "margin": null,
            "max_height": null,
            "max_width": null,
            "min_height": null,
            "min_width": null,
            "object_fit": null,
            "object_position": null,
            "order": null,
            "overflow": null,
            "overflow_x": null,
            "overflow_y": null,
            "padding": null,
            "right": null,
            "top": null,
            "visibility": null,
            "width": null
          }
        },
        "a63a43a2771a4f1f8ab163fb2c089c27": {
          "model_module": "@jupyter-widgets/controls",
          "model_name": "DescriptionStyleModel",
          "model_module_version": "1.5.0",
          "state": {
            "_model_module": "@jupyter-widgets/controls",
            "_model_module_version": "1.5.0",
            "_model_name": "DescriptionStyleModel",
            "_view_count": null,
            "_view_module": "@jupyter-widgets/base",
            "_view_module_version": "1.2.0",
            "_view_name": "StyleView",
            "description_width": ""
          }
        },
        "d3a57d6214e54904b9785959de1c493b": {
          "model_module": "@jupyter-widgets/base",
          "model_name": "LayoutModel",
          "model_module_version": "1.2.0",
          "state": {
            "_model_module": "@jupyter-widgets/base",
            "_model_module_version": "1.2.0",
            "_model_name": "LayoutModel",
            "_view_count": null,
            "_view_module": "@jupyter-widgets/base",
            "_view_module_version": "1.2.0",
            "_view_name": "LayoutView",
            "align_content": null,
            "align_items": null,
            "align_self": null,
            "border": null,
            "bottom": null,
            "display": null,
            "flex": null,
            "flex_flow": null,
            "grid_area": null,
            "grid_auto_columns": null,
            "grid_auto_flow": null,
            "grid_auto_rows": null,
            "grid_column": null,
            "grid_gap": null,
            "grid_row": null,
            "grid_template_areas": null,
            "grid_template_columns": null,
            "grid_template_rows": null,
            "height": null,
            "justify_content": null,
            "justify_items": null,
            "left": null,
            "margin": null,
            "max_height": null,
            "max_width": null,
            "min_height": null,
            "min_width": null,
            "object_fit": null,
            "object_position": null,
            "order": null,
            "overflow": null,
            "overflow_x": null,
            "overflow_y": null,
            "padding": null,
            "right": null,
            "top": null,
            "visibility": null,
            "width": null
          }
        },
        "8e96998335cc4098abbb06b30e417abc": {
          "model_module": "@jupyter-widgets/controls",
          "model_name": "ProgressStyleModel",
          "model_module_version": "1.5.0",
          "state": {
            "_model_module": "@jupyter-widgets/controls",
            "_model_module_version": "1.5.0",
            "_model_name": "ProgressStyleModel",
            "_view_count": null,
            "_view_module": "@jupyter-widgets/base",
            "_view_module_version": "1.2.0",
            "_view_name": "StyleView",
            "bar_color": null,
            "description_width": ""
          }
        },
        "46523a942ed34819aaa907cdb773756c": {
          "model_module": "@jupyter-widgets/base",
          "model_name": "LayoutModel",
          "model_module_version": "1.2.0",
          "state": {
            "_model_module": "@jupyter-widgets/base",
            "_model_module_version": "1.2.0",
            "_model_name": "LayoutModel",
            "_view_count": null,
            "_view_module": "@jupyter-widgets/base",
            "_view_module_version": "1.2.0",
            "_view_name": "LayoutView",
            "align_content": null,
            "align_items": null,
            "align_self": null,
            "border": null,
            "bottom": null,
            "display": null,
            "flex": null,
            "flex_flow": null,
            "grid_area": null,
            "grid_auto_columns": null,
            "grid_auto_flow": null,
            "grid_auto_rows": null,
            "grid_column": null,
            "grid_gap": null,
            "grid_row": null,
            "grid_template_areas": null,
            "grid_template_columns": null,
            "grid_template_rows": null,
            "height": null,
            "justify_content": null,
            "justify_items": null,
            "left": null,
            "margin": null,
            "max_height": null,
            "max_width": null,
            "min_height": null,
            "min_width": null,
            "object_fit": null,
            "object_position": null,
            "order": null,
            "overflow": null,
            "overflow_x": null,
            "overflow_y": null,
            "padding": null,
            "right": null,
            "top": null,
            "visibility": null,
            "width": null
          }
        },
        "5efd25ec560049f4958c435628252925": {
          "model_module": "@jupyter-widgets/controls",
          "model_name": "DescriptionStyleModel",
          "model_module_version": "1.5.0",
          "state": {
            "_model_module": "@jupyter-widgets/controls",
            "_model_module_version": "1.5.0",
            "_model_name": "DescriptionStyleModel",
            "_view_count": null,
            "_view_module": "@jupyter-widgets/base",
            "_view_module_version": "1.2.0",
            "_view_name": "StyleView",
            "description_width": ""
          }
        }
      }
    },
    "accelerator": "GPU"
  },
  "nbformat": 4,
  "nbformat_minor": 0
}